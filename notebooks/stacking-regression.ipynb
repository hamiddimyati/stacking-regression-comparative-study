{
 "cells": [
  {
   "cell_type": "code",
   "execution_count": 1,
   "metadata": {},
   "outputs": [],
   "source": [
    "import os\n",
    "\n",
    "#os.chdir('/Users/user/Documents/GitHub/II2202_Stacking-Regression-Comparative-Study/src')\n",
    "os.chdir('/Users/hamiddimyati/Documents/codes/stacking-regression-comparative-study/src')"
   ]
  },
  {
   "cell_type": "code",
   "execution_count": 31,
   "metadata": {},
   "outputs": [],
   "source": [
    "import numpy as np\n",
    "np.warnings.filterwarnings('ignore')\n",
    "import pandas as pd\n",
    "import matplotlib.pyplot as plt\n",
    "import matplotlib.gridspec as gridspec\n",
    "plt.style.use('ggplot')\n",
    "import seaborn as sns\n",
    "import re\n",
    "from bs4 import BeautifulSoup\n",
    "from urllib.request import Request, urlopen\n",
    "import time\n",
    "import pickle\n",
    "\n",
    "from sklearn.preprocessing import OneHotEncoder, StandardScaler, RobustScaler\n",
    "from sklearn.metrics import mean_squared_error, mean_absolute_error, r2_score\n",
    "from sklearn.model_selection import KFold, train_test_split, cross_validate\n",
    "from sklearn.linear_model import LinearRegression, SGDRegressor, Ridge, Lasso, ElasticNet, BayesianRidge, HuberRegressor\n",
    "from sklearn.kernel_ridge import KernelRidge\n",
    "from sklearn.neighbors import KNeighborsRegressor\n",
    "from sklearn.neural_network import MLPRegressor\n",
    "from sklearn.svm import SVR\n",
    "from sklearn.tree import DecisionTreeRegressor\n",
    "from sklearn.ensemble import BaggingRegressor, RandomForestRegressor, AdaBoostRegressor, GradientBoostingRegressor\n",
    "from pyearth import Earth\n",
    "from xgboost import XGBRegressor\n",
    "from lightgbm import LGBMRegressor\n",
    "from catboost import CatBoostRegressor\n",
    "\n",
    "from skoptimize import LinearSearch, DifferentialEvolution, GeneticAlgorithm, ParticleSwarmOptimization, SimulatedAnnealing, GreedySearch"
   ]
  },
  {
   "cell_type": "code",
   "execution_count": 5,
   "metadata": {},
   "outputs": [],
   "source": [
    "#path = \"/Users/user/Documents/GitHub/II2202_Stacking-Regression-Comparative-Study\"\n",
    "path = \"/Users/hamiddimyati/Documents/codes/stacking-regression-comparative-study\""
   ]
  },
  {
   "cell_type": "code",
   "execution_count": 102,
   "metadata": {},
   "outputs": [],
   "source": [
    "base_models = {'LinearRegression': LinearRegression(),\n",
    "              'Ridge': Ridge(),\n",
    "              'Lasso': Lasso(),\n",
    "              'KernelRidge': KernelRidge(kernel='rbf'),\n",
    "              'KNeighborsRegressor': KNeighborsRegressor(),\n",
    "              'MLPRegressor': MLPRegressor(max_iter=1000),\n",
    "              'SVR': SVR(),\n",
    "              'DecisionTreeRegressor': DecisionTreeRegressor(),\n",
    "              'Earth': Earth(),\n",
    "              'BaggingRegressor': BaggingRegressor(),\n",
    "              'RandomForestRegressor': RandomForestRegressor(),\n",
    "              'GradientBoostingRegressor': GradientBoostingRegressor(),\n",
    "              'XGBRegressor': XGBRegressor(),\n",
    "              'LGBMRegressor': LGBMRegressor(),\n",
    "              'CatBoostRegressor': CatBoostRegressor(verbose=False)}\n",
    "\n",
    "meta_models = {'LinearRegression': LinearRegression(),\n",
    "               'Ridge': Ridge(),\n",
    "               'LinearSearch': LinearSearch(non_negative=True, sum_to_one=False), \n",
    "               'DifferentialEvolution': DifferentialEvolution(size_pop=1000, max_iter=1000, non_negative=False, sum_to_one=False), \n",
    "               'GeneticAlgorithm': GeneticAlgorithm(size_pop=1000, max_iter=1000, non_negative=False, sum_to_one=False), \n",
    "               'ParticleSwarmOptimization': ParticleSwarmOptimization(pop=1000, max_iter=1000, w=0.8, c1=0.5, c2=0.5, non_negative=False, sum_to_one=False), \n",
    "               'SimulatedAnnealing': SimulatedAnnealing(T_max=1, T_min=1e-9, L=500, max_stay_counter=1000), \n",
    "               'GreedySearch': GreedySearch(convergence='manhattan', epsilon=1e-2)}"
   ]
  },
  {
   "cell_type": "code",
   "execution_count": 4,
   "metadata": {},
   "outputs": [],
   "source": [
    "def base_cv_learning(model, X_train, y_train, cv_split):\n",
    "    cv = KFold(n_splits=cv_split)\n",
    "    rmse = []\n",
    "    mae = []\n",
    "    r2 = []\n",
    "    predictions = np.array([])\n",
    "    dict_result = {}\n",
    "    for subtrain_index, subtest_index in cv.split(X_train):\n",
    "        X_subtrain, X_subtest = X_train.iloc[subtrain_index], X_train.iloc[subtest_index]\n",
    "        y_subtrain, y_subtest = y_train.iloc[subtrain_index], y_train.iloc[subtest_index]\n",
    "        \n",
    "        model.fit(X_subtrain, y_subtrain.to_numpy().ravel())\n",
    "        y_subpred = model.predict(X_subtest)\n",
    "        predictions = np.append(predictions, y_subpred)\n",
    "        \n",
    "        \n",
    "        rmse.append(mean_squared_error(y_subtest, y_subpred, squared=False))\n",
    "        mae.append(mean_absolute_error(y_subtest, y_subpred))\n",
    "        r2.append(r2_score(y_subtest, y_subpred))\n",
    "    dict_result['RMSE'] = round(np.mean(rmse), 3)\n",
    "    dict_result['MAE'] = round(np.mean(mae), 3)\n",
    "    dict_result['R2'] = round(np.mean(r2), 3)\n",
    "    \n",
    "    return predictions, dict_result\n",
    "\n",
    "def meta_cv_learning(model, X_train, y_train, cv_split):\n",
    "    cv = KFold(n_splits=cv_split)\n",
    "    rmse = []\n",
    "    mae = []\n",
    "    r2 = []\n",
    "    dict_result = {}\n",
    "    for subtrain_index, subtest_index in cv.split(X_train):\n",
    "        X_subtrain, X_subtest = X_train.iloc[subtrain_index].to_numpy(), X_train.iloc[subtest_index].to_numpy()\n",
    "        y_subtrain, y_subtest = y_train.iloc[subtrain_index].to_numpy().ravel(), y_train.iloc[subtest_index].to_numpy().ravel()\n",
    "        \n",
    "        model.fit(X_subtrain, y_subtrain)\n",
    "        y_subpred = model.predict(X_subtest)\n",
    "        \n",
    "        rmse.append(mean_squared_error(y_subtest, y_subpred, squared=False))\n",
    "        mae.append(mean_absolute_error(y_subtest, y_subpred))\n",
    "        r2.append(r2_score(y_subtest, y_subpred))\n",
    "    dict_result['RMSE'] = round(np.mean(rmse), 3)\n",
    "    dict_result['MAE'] = round(np.mean(mae), 3)\n",
    "    dict_result['R2'] = round(np.mean(r2), 3)\n",
    "    \n",
    "    return dict_result"
   ]
  },
  {
   "cell_type": "code",
   "execution_count": 124,
   "metadata": {},
   "outputs": [],
   "source": [
    "def save_obj(obj, name):\n",
    "    with open(path + '/output/'+ name + '.pkl', 'wb') as f:\n",
    "        pickle.dump(obj, f, pickle.HIGHEST_PROTOCOL)\n",
    "        \n",
    "def load_obj(name):\n",
    "    with open(path + '/output/' + name + '.pkl', 'rb') as f:\n",
    "        return pickle.load(f)"
   ]
  },
  {
   "cell_type": "markdown",
   "metadata": {},
   "source": [
    "# Seoul Bike Data"
   ]
  },
  {
   "cell_type": "markdown",
   "metadata": {},
   "source": [
    "## Pre-processing"
   ]
  },
  {
   "cell_type": "code",
   "execution_count": 6,
   "metadata": {},
   "outputs": [],
   "source": [
    "seoul_bike = pd.read_csv(path + \"/data/SeoulBikeData.csv\", header=0, encoding= 'unicode_escape')"
   ]
  },
  {
   "cell_type": "code",
   "execution_count": 7,
   "metadata": {},
   "outputs": [],
   "source": [
    "seoul_bike['Date'] = pd.to_datetime(seoul_bike['Date'])"
   ]
  },
  {
   "cell_type": "code",
   "execution_count": 8,
   "metadata": {},
   "outputs": [],
   "source": [
    "seoul_bike['Date'] += pd.to_timedelta(seoul_bike['Hour'], unit='h')"
   ]
  },
  {
   "cell_type": "code",
   "execution_count": 9,
   "metadata": {},
   "outputs": [
    {
     "name": "stdout",
     "output_type": "stream",
     "text": [
      "<class 'pandas.core.frame.DataFrame'>\n",
      "RangeIndex: 8760 entries, 0 to 8759\n",
      "Data columns (total 14 columns):\n",
      " #   Column                     Non-Null Count  Dtype         \n",
      "---  ------                     --------------  -----         \n",
      " 0   Date                       8760 non-null   datetime64[ns]\n",
      " 1   Rented Bike Count          8760 non-null   int64         \n",
      " 2   Hour                       8760 non-null   int64         \n",
      " 3   Temperature(°C)            8760 non-null   float64       \n",
      " 4   Humidity(%)                8760 non-null   int64         \n",
      " 5   Wind speed (m/s)           8760 non-null   float64       \n",
      " 6   Visibility (10m)           8760 non-null   int64         \n",
      " 7   Dew point temperature(°C)  8760 non-null   float64       \n",
      " 8   Solar Radiation (MJ/m2)    8760 non-null   float64       \n",
      " 9   Rainfall(mm)               8760 non-null   float64       \n",
      " 10  Snowfall (cm)              8760 non-null   float64       \n",
      " 11  Seasons                    8760 non-null   object        \n",
      " 12  Holiday                    8760 non-null   object        \n",
      " 13  Functioning Day            8760 non-null   object        \n",
      "dtypes: datetime64[ns](1), float64(6), int64(4), object(3)\n",
      "memory usage: 958.2+ KB\n"
     ]
    }
   ],
   "source": [
    "seoul_bike.info()"
   ]
  },
  {
   "cell_type": "code",
   "execution_count": 10,
   "metadata": {},
   "outputs": [
    {
     "data": {
      "text/plain": [
       "Text(0.5, 1.0, 'Snowfall (cm)')"
      ]
     },
     "execution_count": 10,
     "metadata": {},
     "output_type": "execute_result"
    },
    {
     "data": {
      "image/png": "[encoded data removed]",
      "text/plain": [
       "<Figure size 1440x720 with 8 Axes>"
      ]
     },
     "metadata": {
      "needs_background": "light"
     },
     "output_type": "display_data"
    }
   ],
   "source": [
    "fig, ax = plt.subplots(2, 4, figsize=(20,10))\n",
    "ax[0,0].boxplot(seoul_bike['Temperature(°C)'])\n",
    "ax[0,0].set_title('Temperature(°C)')\n",
    "ax[0,1].boxplot(seoul_bike['Humidity(%)'])\n",
    "ax[0,1].set_title('Humidity(%)')\n",
    "ax[0,2].boxplot(seoul_bike['Wind speed (m/s)'])\n",
    "ax[0,2].set_title('Wind speed (m/s)')\n",
    "ax[0,3].boxplot(seoul_bike['Visibility (10m)'])\n",
    "ax[0,3].set_title('Visibility (10m)')\n",
    "ax[1,0].boxplot(seoul_bike['Dew point temperature(°C)'])\n",
    "ax[1,0].set_title('Dew point temperature(°C)')\n",
    "ax[1,1].boxplot(seoul_bike['Solar Radiation (MJ/m2)'])\n",
    "ax[1,1].set_title('Solar Radiation (MJ/m2)')\n",
    "ax[1,2].boxplot(seoul_bike['Rainfall(mm)'])\n",
    "ax[1,2].set_title('Rainfall(mm)')\n",
    "ax[1,3].boxplot(seoul_bike['Snowfall (cm)'])\n",
    "ax[1,3].set_title('Snowfall (cm)')\n",
    "#fig.savefig(dir + \"/images/indep_boxplot.png\", bbox_inches = 'tight')"
   ]
  },
  {
   "cell_type": "markdown",
   "metadata": {},
   "source": [
    "### Feature Extraction"
   ]
  },
  {
   "cell_type": "code",
   "execution_count": 11,
   "metadata": {},
   "outputs": [],
   "source": [
    "seoul_bike['Year'] = seoul_bike['Date'].dt.year\n",
    "seoul_bike['Month'] = seoul_bike['Date'].dt.month\n",
    "seoul_bike['Day'] = seoul_bike['Date'].dt.day"
   ]
  },
  {
   "cell_type": "code",
   "execution_count": 12,
   "metadata": {},
   "outputs": [
    {
     "data": {
      "text/plain": [
       "Text(0.5, 1.0, 'Hour')"
      ]
     },
     "execution_count": 12,
     "metadata": {},
     "output_type": "execute_result"
    },
    {
     "data": {
      "image/png": "[encoded data removed]",
      "text/plain": [
       "<Figure size 720x720 with 4 Axes>"
      ]
     },
     "metadata": {
      "needs_background": "light"
     },
     "output_type": "display_data"
    }
   ],
   "source": [
    "fig, ax = plt.subplots(2, 2, figsize=(10,10))\n",
    "ax[0,0].boxplot(seoul_bike['Year'])\n",
    "ax[0,0].set_title('Year')\n",
    "ax[0,1].boxplot(seoul_bike['Month'])\n",
    "ax[0,1].set_title('Month')\n",
    "ax[1,0].boxplot(seoul_bike['Day'])\n",
    "ax[1,0].set_title('Day')\n",
    "ax[1,1].boxplot(seoul_bike['Hour'])\n",
    "ax[1,1].set_title('Hour')"
   ]
  },
  {
   "cell_type": "markdown",
   "metadata": {},
   "source": [
    "### Encoding Categorical Features"
   ]
  },
  {
   "cell_type": "code",
   "execution_count": 13,
   "metadata": {},
   "outputs": [],
   "source": [
    "seoul_bike = pd.get_dummies(seoul_bike, columns=['Seasons', 'Holiday', 'Functioning Day'], drop_first=False)"
   ]
  },
  {
   "cell_type": "markdown",
   "metadata": {},
   "source": [
    "### Standardization"
   ]
  },
  {
   "cell_type": "code",
   "execution_count": 14,
   "metadata": {},
   "outputs": [],
   "source": [
    "# non-outlier features\n",
    "scaler1 = StandardScaler()\n",
    "X1 = seoul_bike[['Temperature(°C)','Humidity(%)','Visibility (10m)','Dew point temperature(°C)','Year','Month','Day','Hour']]\n",
    "X1 = scaler1.fit_transform(X1)"
   ]
  },
  {
   "cell_type": "code",
   "execution_count": 15,
   "metadata": {},
   "outputs": [],
   "source": [
    "# outlier features\n",
    "scaler2 = RobustScaler()\n",
    "X2 = seoul_bike[['Wind speed (m/s)','Solar Radiation (MJ/m2)','Rainfall(mm)','Snowfall (cm)']]\n",
    "X2 = scaler2.fit_transform(X2)"
   ]
  },
  {
   "cell_type": "markdown",
   "metadata": {},
   "source": [
    "## Data Splitting"
   ]
  },
  {
   "cell_type": "code",
   "execution_count": 16,
   "metadata": {},
   "outputs": [],
   "source": [
    "X3 = np.concatenate((X1,X2),axis=1) \n",
    "X4 = pd.DataFrame(X3, columns =['Temperature(°C)','Humidity(%)','Visibility (10m)','Dew point temperature(°C)','Year','Month','Day','Hour', 'Wind speed (m/s)','Solar Radiation (MJ/m2)','Rainfall(mm)','Snowfall (cm)'])\n",
    "X = pd.merge(X4, seoul_bike[['Seasons_Autumn','Seasons_Spring','Seasons_Summer','Seasons_Winter','Holiday_Holiday','Holiday_No Holiday','Functioning Day_No','Functioning Day_Yes']], left_index=True, right_index=True)\n",
    "y = seoul_bike[['Rented Bike Count']]"
   ]
  },
  {
   "cell_type": "code",
   "execution_count": 17,
   "metadata": {},
   "outputs": [],
   "source": [
    "X_train, X_test, y_train, y_test = train_test_split(X, y, test_size=0.2, random_state=333)\n",
    "base_train_prediction = {}\n",
    "base_train_prediction['target'] = y_train.to_numpy().ravel()\n",
    "base_test_prediction = {}\n",
    "base_test_prediction['target'] = y_test.to_numpy().ravel()"
   ]
  },
  {
   "cell_type": "code",
   "execution_count": 18,
   "metadata": {},
   "outputs": [],
   "source": [
    "base_cv_performance = {}\n",
    "base_test_performance = {}\n",
    "meta_cv_performance = {}\n",
    "meta_test_performance = {}"
   ]
  },
  {
   "cell_type": "markdown",
   "metadata": {},
   "source": [
    "## Base-level Learning"
   ]
  },
  {
   "cell_type": "code",
   "execution_count": 19,
   "metadata": {},
   "outputs": [],
   "source": [
    "for m in base_models:\n",
    "    model = base_models[m]\n",
    "    base_test_performance[model.__class__.__name__] = {}\n",
    "    \n",
    "    prediction, performance = base_cv_learning(model, X_train, y_train, 5)\n",
    "    base_train_prediction[model.__class__.__name__] = prediction\n",
    "    base_cv_performance[model.__class__.__name__] = performance\n",
    "    \n",
    "    model.fit(X_train, y_train)\n",
    "    y_pred = model.predict(X_test)\n",
    "    try:\n",
    "        base_test_prediction[model.__class__.__name__] = [items[0] for items in y_pred.tolist()]\n",
    "    except:\n",
    "        base_test_prediction[model.__class__.__name__] = y_pred.tolist()\n",
    "    rmse = mean_squared_error(y_test, y_pred, squared=False)\n",
    "    mae = mean_absolute_error(y_test, y_pred)\n",
    "    r2 = r2_score(y_test, y_pred)\n",
    "    base_test_performance[model.__class__.__name__]['RMSE'] = round(rmse, 3)\n",
    "    base_test_performance[model.__class__.__name__]['MAE'] = round(mae, 3)\n",
    "    base_test_performance[model.__class__.__name__]['R2'] = round(r2, 3)"
   ]
  },
  {
   "cell_type": "code",
   "execution_count": 20,
   "metadata": {},
   "outputs": [
    {
     "data": {
      "text/plain": [
       "{'LinearRegression': {'RMSE': 431.884, 'MAE': 322.458, 'R2': 0.55},\n",
       " 'Ridge': {'RMSE': 431.879, 'MAE': 322.428, 'R2': 0.55},\n",
       " 'Lasso': {'RMSE': 431.885, 'MAE': 322.145, 'R2': 0.55},\n",
       " 'KernelRidge': {'RMSE': 318.111, 'MAE': 216.826, 'R2': 0.756},\n",
       " 'KNeighborsRegressor': {'RMSE': 308.562, 'MAE': 196.401, 'R2': 0.77},\n",
       " 'MLPRegressor': {'RMSE': 320.711, 'MAE': 221.43, 'R2': 0.752},\n",
       " 'SVR': {'RMSE': 541.74, 'MAE': 370.645, 'R2': 0.293},\n",
       " 'DecisionTreeRegressor': {'RMSE': 309.384, 'MAE': 180.057, 'R2': 0.769},\n",
       " 'Earth': {'RMSE': 429.335, 'MAE': 321.446, 'R2': 0.556},\n",
       " 'BaggingRegressor': {'RMSE': 237.254, 'MAE': 145.564, 'R2': 0.864},\n",
       " 'RandomForestRegressor': {'RMSE': 224.956, 'MAE': 137.269, 'R2': 0.878},\n",
       " 'GradientBoostingRegressor': {'RMSE': 252.327, 'MAE': 168.342, 'R2': 0.846},\n",
       " 'XGBRegressor': {'RMSE': 220.127, 'MAE': 136.805, 'R2': 0.883},\n",
       " 'LGBMRegressor': {'RMSE': 213.927, 'MAE': 133.812, 'R2': 0.889},\n",
       " 'CatBoostRegressor': {'RMSE': 211.156, 'MAE': 132.758, 'R2': 0.892}}"
      ]
     },
     "execution_count": 20,
     "metadata": {},
     "output_type": "execute_result"
    }
   ],
   "source": [
    "base_cv_performance"
   ]
  },
  {
   "cell_type": "code",
   "execution_count": 21,
   "metadata": {},
   "outputs": [
    {
     "data": {
      "text/plain": [
       "{'LinearRegression': {'RMSE': 437.853, 'MAE': 326.765, 'R2': 0.542},\n",
       " 'Ridge': {'RMSE': 437.865, 'MAE': 326.748, 'R2': 0.542},\n",
       " 'Lasso': {'RMSE': 438.698, 'MAE': 327.013, 'R2': 0.54},\n",
       " 'KernelRidge': {'RMSE': 333.564, 'MAE': 227.02, 'R2': 0.734},\n",
       " 'KNeighborsRegressor': {'RMSE': 306.489, 'MAE': 192.451, 'R2': 0.776},\n",
       " 'MLPRegressor': {'RMSE': 331.762, 'MAE': 227.229, 'R2': 0.737},\n",
       " 'SVR': {'RMSE': 535.479, 'MAE': 365.982, 'R2': 0.315},\n",
       " 'DecisionTreeRegressor': {'RMSE': 322.222, 'MAE': 187.13, 'R2': 0.752},\n",
       " 'Earth': {'RMSE': 436.442, 'MAE': 326.4, 'R2': 0.545},\n",
       " 'BaggingRegressor': {'RMSE': 240.454, 'MAE': 146.279, 'R2': 0.862},\n",
       " 'RandomForestRegressor': {'RMSE': 233.412, 'MAE': 140.617, 'R2': 0.87},\n",
       " 'GradientBoostingRegressor': {'RMSE': 269.782, 'MAE': 181.927, 'R2': 0.826},\n",
       " 'XGBRegressor': {'RMSE': 225.564, 'MAE': 138.074, 'R2': 0.878},\n",
       " 'LGBMRegressor': {'RMSE': 218.842, 'MAE': 136.099, 'R2': 0.886},\n",
       " 'CatBoostRegressor': {'RMSE': 213.575, 'MAE': 132.441, 'R2': 0.891}}"
      ]
     },
     "execution_count": 21,
     "metadata": {},
     "output_type": "execute_result"
    }
   ],
   "source": [
    "base_test_performance"
   ]
  },
  {
   "cell_type": "markdown",
   "metadata": {},
   "source": [
    "## Meta-level Learning"
   ]
  },
  {
   "cell_type": "code",
   "execution_count": 22,
   "metadata": {},
   "outputs": [],
   "source": [
    "df_train_meta = pd.DataFrame(base_train_prediction)\n",
    "y_train_meta = df_train_meta[['target']]\n",
    "X_train_meta = df_train_meta.drop(columns=['target'], axis=1)"
   ]
  },
  {
   "cell_type": "code",
   "execution_count": 23,
   "metadata": {},
   "outputs": [],
   "source": [
    "df_test_meta = pd.DataFrame(base_test_prediction)\n",
    "y_test_meta = df_test_meta[['target']].to_numpy().ravel()\n",
    "X_test_meta = df_test_meta.drop(columns=['target'], axis=1).to_numpy()"
   ]
  },
  {
   "cell_type": "code",
   "execution_count": 24,
   "metadata": {},
   "outputs": [],
   "source": [
    "for m in meta_models:\n",
    "    model = meta_models[m]\n",
    "    meta_test_performance[model.__class__.__name__] = {}\n",
    "    \n",
    "    performance = meta_cv_learning(model, X_train_meta, y_train_meta, 5)\n",
    "    meta_cv_performance[model.__class__.__name__] = performance\n",
    "    \n",
    "    model.fit(X_train_meta.to_numpy(), y_train_meta.to_numpy().ravel())\n",
    "    y_pred = model.predict(X_test_meta)\n",
    "    rmse = mean_squared_error(y_test_meta, y_pred, squared=False)\n",
    "    mae = mean_absolute_error(y_test_meta, y_pred)\n",
    "    r2 = r2_score(y_test, y_pred)\n",
    "    meta_test_performance[model.__class__.__name__]['RMSE'] = round(rmse, 3)\n",
    "    meta_test_performance[model.__class__.__name__]['MAE'] = round(mae, 3)\n",
    "    meta_test_performance[model.__class__.__name__]['R2'] = round(r2, 3)"
   ]
  },
  {
   "cell_type": "code",
   "execution_count": 25,
   "metadata": {},
   "outputs": [
    {
     "data": {
      "text/plain": [
       "{'LinearRegression': {'RMSE': 206.692, 'MAE': 126.182, 'R2': 0.897},\n",
       " 'Ridge': {'RMSE': 206.692, 'MAE': 126.183, 'R2': 0.897},\n",
       " 'LinearSearch': {'RMSE': 208.2, 'MAE': 128.664, 'R2': 0.895},\n",
       " 'DifferentialEvolution': {'RMSE': 209.592, 'MAE': 128.718, 'R2': 0.894},\n",
       " 'GeneticAlgorithm': {'RMSE': 206.811, 'MAE': 126.531, 'R2': 0.897},\n",
       " 'ParticleSwarmOptimization': {'RMSE': 206.801, 'MAE': 126.497, 'R2': 0.897},\n",
       " 'SimulatedAnnealing': {'RMSE': 221.756, 'MAE': 142.701, 'R2': 0.881},\n",
       " 'GreedySearch': {'RMSE': 209.469, 'MAE': 128.725, 'R2': 0.894}}"
      ]
     },
     "execution_count": 25,
     "metadata": {},
     "output_type": "execute_result"
    }
   ],
   "source": [
    "meta_cv_performance"
   ]
  },
  {
   "cell_type": "code",
   "execution_count": 26,
   "metadata": {},
   "outputs": [
    {
     "data": {
      "text/plain": [
       "{'LinearRegression': {'RMSE': 205.677, 'MAE': 123.679, 'R2': 0.899},\n",
       " 'Ridge': {'RMSE': 205.677, 'MAE': 123.679, 'R2': 0.899},\n",
       " 'LinearSearch': {'RMSE': 211.82, 'MAE': 130.105, 'R2': 0.893},\n",
       " 'DifferentialEvolution': {'RMSE': 206.976, 'MAE': 125.077, 'R2': 0.898},\n",
       " 'GeneticAlgorithm': {'RMSE': 205.194, 'MAE': 124.044, 'R2': 0.899},\n",
       " 'ParticleSwarmOptimization': {'RMSE': 205.585, 'MAE': 123.712, 'R2': 0.899},\n",
       " 'SimulatedAnnealing': {'RMSE': 248.555, 'MAE': 170.235, 'R2': 0.852},\n",
       " 'GreedySearch': {'RMSE': 214.691, 'MAE': 130.413, 'R2': 0.89}}"
      ]
     },
     "execution_count": 26,
     "metadata": {},
     "output_type": "execute_result"
    }
   ],
   "source": [
    "meta_test_performance"
   ]
  },
  {
   "cell_type": "markdown",
   "metadata": {},
   "source": [
    "## Save output"
   ]
  },
  {
   "cell_type": "code",
   "execution_count": 32,
   "metadata": {},
   "outputs": [],
   "source": [
    "save_obj(base_cv_performance, 'data1_base_cv')\n",
    "save_obj(base_test_performance, 'data1_base_test')\n",
    "save_obj(meta_cv_performance, 'data1_meta_cv')\n",
    "save_obj(meta_test_performance, 'data1_meta_test')"
   ]
  },
  {
   "cell_type": "markdown",
   "metadata": {},
   "source": [
    "# Crimes & Communities Data"
   ]
  },
  {
   "cell_type": "markdown",
   "metadata": {},
   "source": [
    "## Pre-processing"
   ]
  },
  {
   "cell_type": "code",
   "execution_count": 33,
   "metadata": {},
   "outputs": [],
   "source": [
    "soup_link = BeautifulSoup(urlopen('http://archive.ics.uci.edu/ml/machine-learning-databases/communities/communities.names'))\n",
    "table_header = soup_link.find('p')"
   ]
  },
  {
   "cell_type": "code",
   "execution_count": 34,
   "metadata": {},
   "outputs": [],
   "source": [
    "p = re.compile(r'@attribute\\s+((?:\\w+(?:|$)){1})')\n",
    "columns = p.findall(table_header.text)"
   ]
  },
  {
   "cell_type": "code",
   "execution_count": 35,
   "metadata": {},
   "outputs": [],
   "source": [
    "comm_crime = pd.read_csv('http://archive.ics.uci.edu/ml/machine-learning-databases/communities/communities.data', sep=',', header=None, names=columns)"
   ]
  },
  {
   "cell_type": "code",
   "execution_count": 36,
   "metadata": {},
   "outputs": [],
   "source": [
    "comm_crime = comm_crime.replace('?', np.nan)\n",
    "\n",
    "total_missing = comm_crime.isnull().mean() * 100\n",
    "drop_cols = total_missing[total_missing >= 0.5].index.to_list()\n",
    "drop_cols.append('communityname')\n",
    "comm_crime.drop(columns=drop_cols, inplace=True)\n",
    "\n",
    "comm_crime['OtherPerCap'] = comm_crime['OtherPerCap'].astype(float).round(2)\n",
    "\n",
    "comm_crime = comm_crime.fillna(comm_crime.mean())"
   ]
  },
  {
   "cell_type": "code",
   "execution_count": 37,
   "metadata": {},
   "outputs": [
    {
     "name": "stdout",
     "output_type": "stream",
     "text": [
      "<class 'pandas.core.frame.DataFrame'>\n",
      "RangeIndex: 1994 entries, 0 to 1993\n",
      "Columns: 103 entries, state to ViolentCrimesPerPop\n",
      "dtypes: float64(101), int64(2)\n",
      "memory usage: 1.6 MB\n"
     ]
    }
   ],
   "source": [
    "comm_crime.info()"
   ]
  },
  {
   "cell_type": "markdown",
   "metadata": {},
   "source": [
    "## Data Splitting"
   ]
  },
  {
   "cell_type": "code",
   "execution_count": 71,
   "metadata": {},
   "outputs": [],
   "source": [
    "X = comm_crime.loc[:, comm_crime.columns != 'ViolentCrimesPerPop']\n",
    "y = comm_crime[['ViolentCrimesPerPop']]"
   ]
  },
  {
   "cell_type": "code",
   "execution_count": 72,
   "metadata": {},
   "outputs": [],
   "source": [
    "X_train, X_test, y_train, y_test = train_test_split(X, y, test_size=0.2, random_state=333)\n",
    "base_train_prediction = {}\n",
    "base_train_prediction['target'] = y_train.to_numpy().ravel()\n",
    "base_test_prediction = {}\n",
    "base_test_prediction['target'] = y_test.to_numpy().ravel()"
   ]
  },
  {
   "cell_type": "code",
   "execution_count": 73,
   "metadata": {},
   "outputs": [],
   "source": [
    "base_cv_performance = {}\n",
    "base_test_performance = {}\n",
    "meta_cv_performance = {}\n",
    "meta_test_performance = {}"
   ]
  },
  {
   "cell_type": "markdown",
   "metadata": {},
   "source": [
    "## Base-level Learning"
   ]
  },
  {
   "cell_type": "code",
   "execution_count": 74,
   "metadata": {},
   "outputs": [],
   "source": [
    "for m in base_models:\n",
    "    model = base_models[m]\n",
    "    base_test_performance[model.__class__.__name__] = {}\n",
    "    \n",
    "    prediction, performance = base_cv_learning(model, X_train, y_train, 5)\n",
    "    base_train_prediction[model.__class__.__name__] = prediction\n",
    "    base_cv_performance[model.__class__.__name__] = performance\n",
    "    \n",
    "    model.fit(X_train, y_train)\n",
    "    y_pred = model.predict(X_test)\n",
    "    try:\n",
    "        base_test_prediction[model.__class__.__name__] = [items[0] for items in y_pred.tolist()]\n",
    "    except:\n",
    "        base_test_prediction[model.__class__.__name__] = y_pred.tolist()\n",
    "    rmse = mean_squared_error(y_test, y_pred, squared=False)\n",
    "    mae = mean_absolute_error(y_test, y_pred)\n",
    "    r2 = r2_score(y_test, y_pred)\n",
    "    base_test_performance[model.__class__.__name__]['RMSE'] = round(rmse, 3)\n",
    "    base_test_performance[model.__class__.__name__]['MAE'] = round(mae, 3)\n",
    "    base_test_performance[model.__class__.__name__]['R2'] = round(r2, 3)"
   ]
  },
  {
   "cell_type": "code",
   "execution_count": 75,
   "metadata": {},
   "outputs": [
    {
     "data": {
      "text/plain": [
       "{'LinearRegression': {'RMSE': 0.141, 'MAE': 0.1, 'R2': 0.634},\n",
       " 'Ridge': {'RMSE': 0.139, 'MAE': 0.098, 'R2': 0.644},\n",
       " 'Lasso': {'RMSE': 0.235, 'MAE': 0.179, 'R2': -0.012},\n",
       " 'KernelRidge': {'RMSE': 0.148, 'MAE': 0.103, 'R2': 0.6},\n",
       " 'KNeighborsRegressor': {'RMSE': 0.172, 'MAE': 0.118, 'R2': 0.455},\n",
       " 'MLPRegressor': {'RMSE': 0.148, 'MAE': 0.105, 'R2': 0.599},\n",
       " 'SVR': {'RMSE': 0.152, 'MAE': 0.106, 'R2': 0.576},\n",
       " 'DecisionTreeRegressor': {'RMSE': 0.191, 'MAE': 0.128, 'R2': 0.321},\n",
       " 'Earth': {'RMSE': 0.142, 'MAE': 0.098, 'R2': 0.631},\n",
       " 'BaggingRegressor': {'RMSE': 0.146, 'MAE': 0.1, 'R2': 0.607},\n",
       " 'RandomForestRegressor': {'RMSE': 0.141, 'MAE': 0.097, 'R2': 0.632},\n",
       " 'GradientBoostingRegressor': {'RMSE': 0.138, 'MAE': 0.093, 'R2': 0.653},\n",
       " 'XGBRegressor': {'RMSE': 0.145, 'MAE': 0.098, 'R2': 0.616},\n",
       " 'LGBMRegressor': {'RMSE': 0.138, 'MAE': 0.092, 'R2': 0.651},\n",
       " 'CatBoostRegressor': {'RMSE': 0.134, 'MAE': 0.09, 'R2': 0.67}}"
      ]
     },
     "execution_count": 75,
     "metadata": {},
     "output_type": "execute_result"
    }
   ],
   "source": [
    "base_cv_performance"
   ]
  },
  {
   "cell_type": "code",
   "execution_count": 76,
   "metadata": {},
   "outputs": [
    {
     "data": {
      "text/plain": [
       "{'LinearRegression': {'RMSE': 0.13, 'MAE': 0.096, 'R2': 0.672},\n",
       " 'Ridge': {'RMSE': 0.129, 'MAE': 0.093, 'R2': 0.677},\n",
       " 'Lasso': {'RMSE': 0.226, 'MAE': 0.179, 'R2': -0.0},\n",
       " 'KernelRidge': {'RMSE': 0.135, 'MAE': 0.098, 'R2': 0.646},\n",
       " 'KNeighborsRegressor': {'RMSE': 0.168, 'MAE': 0.118, 'R2': 0.451},\n",
       " 'MLPRegressor': {'RMSE': 0.14, 'MAE': 0.104, 'R2': 0.619},\n",
       " 'SVR': {'RMSE': 0.14, 'MAE': 0.102, 'R2': 0.62},\n",
       " 'DecisionTreeRegressor': {'RMSE': 0.201, 'MAE': 0.134, 'R2': 0.21},\n",
       " 'Earth': {'RMSE': 0.13, 'MAE': 0.095, 'R2': 0.668},\n",
       " 'BaggingRegressor': {'RMSE': 0.139, 'MAE': 0.096, 'R2': 0.622},\n",
       " 'RandomForestRegressor': {'RMSE': 0.125, 'MAE': 0.09, 'R2': 0.694},\n",
       " 'GradientBoostingRegressor': {'RMSE': 0.13, 'MAE': 0.091, 'R2': 0.67},\n",
       " 'XGBRegressor': {'RMSE': 0.135, 'MAE': 0.095, 'R2': 0.643},\n",
       " 'LGBMRegressor': {'RMSE': 0.13, 'MAE': 0.091, 'R2': 0.671},\n",
       " 'CatBoostRegressor': {'RMSE': 0.125, 'MAE': 0.087, 'R2': 0.693}}"
      ]
     },
     "execution_count": 76,
     "metadata": {},
     "output_type": "execute_result"
    }
   ],
   "source": [
    "base_test_performance"
   ]
  },
  {
   "cell_type": "markdown",
   "metadata": {},
   "source": [
    "## Meta-level Learning"
   ]
  },
  {
   "cell_type": "code",
   "execution_count": 77,
   "metadata": {},
   "outputs": [],
   "source": [
    "df_train_meta = pd.DataFrame(base_train_prediction)\n",
    "y_train_meta = df_train_meta[['target']]\n",
    "X_train_meta = df_train_meta.drop(columns=['target'], axis=1)"
   ]
  },
  {
   "cell_type": "code",
   "execution_count": 78,
   "metadata": {},
   "outputs": [],
   "source": [
    "df_test_meta = pd.DataFrame(base_test_prediction)\n",
    "y_test_meta = df_test_meta[['target']].to_numpy().ravel()\n",
    "X_test_meta = df_test_meta.drop(columns=['target'], axis=1).to_numpy()"
   ]
  },
  {
   "cell_type": "code",
   "execution_count": 79,
   "metadata": {},
   "outputs": [],
   "source": [
    "for m in meta_models:\n",
    "    model = meta_models[m]\n",
    "    meta_test_performance[model.__class__.__name__] = {}\n",
    "    \n",
    "    performance = meta_cv_learning(model, X_train_meta, y_train_meta, 5)\n",
    "    meta_cv_performance[model.__class__.__name__] = performance\n",
    "    \n",
    "    model.fit(X_train_meta.to_numpy(), y_train_meta.to_numpy().ravel())\n",
    "    y_pred = model.predict(X_test_meta)\n",
    "    rmse = mean_squared_error(y_test_meta, y_pred, squared=False)\n",
    "    mae = mean_absolute_error(y_test_meta, y_pred)\n",
    "    r2 = r2_score(y_test, y_pred)\n",
    "    meta_test_performance[model.__class__.__name__]['RMSE'] = round(rmse, 3)\n",
    "    meta_test_performance[model.__class__.__name__]['MAE'] = round(mae, 3)\n",
    "    meta_test_performance[model.__class__.__name__]['R2'] = round(r2, 3)"
   ]
  },
  {
   "cell_type": "code",
   "execution_count": 80,
   "metadata": {},
   "outputs": [
    {
     "data": {
      "text/plain": [
       "{'LinearRegression': {'RMSE': 0.135, 'MAE': 0.09, 'R2': 0.666},\n",
       " 'Ridge': {'RMSE': 0.134, 'MAE': 0.09, 'R2': 0.672},\n",
       " 'LinearSearch': {'RMSE': 0.133, 'MAE': 0.091, 'R2': 0.673},\n",
       " 'DifferentialEvolution': {'RMSE': 0.134, 'MAE': 0.09, 'R2': 0.671},\n",
       " 'GeneticAlgorithm': {'RMSE': 0.134, 'MAE': 0.09, 'R2': 0.671},\n",
       " 'ParticleSwarmOptimization': {'RMSE': 0.134, 'MAE': 0.091, 'R2': 0.669},\n",
       " 'SimulatedAnnealing': {'RMSE': 0.135, 'MAE': 0.092, 'R2': 0.667},\n",
       " 'GreedySearch': {'RMSE': 0.14, 'MAE': 0.096, 'R2': 0.641}}"
      ]
     },
     "execution_count": 80,
     "metadata": {},
     "output_type": "execute_result"
    }
   ],
   "source": [
    "meta_cv_performance"
   ]
  },
  {
   "cell_type": "code",
   "execution_count": 81,
   "metadata": {},
   "outputs": [
    {
     "data": {
      "text/plain": [
       "{'LinearRegression': {'RMSE': 0.125, 'MAE': 0.087, 'R2': 0.696},\n",
       " 'Ridge': {'RMSE': 0.124, 'MAE': 0.087, 'R2': 0.7},\n",
       " 'LinearSearch': {'RMSE': 0.124, 'MAE': 0.088, 'R2': 0.699},\n",
       " 'DifferentialEvolution': {'RMSE': 0.124, 'MAE': 0.087, 'R2': 0.698},\n",
       " 'GeneticAlgorithm': {'RMSE': 0.125, 'MAE': 0.087, 'R2': 0.696},\n",
       " 'ParticleSwarmOptimization': {'RMSE': 0.125, 'MAE': 0.087, 'R2': 0.695},\n",
       " 'SimulatedAnnealing': {'RMSE': 0.124, 'MAE': 0.089, 'R2': 0.701},\n",
       " 'GreedySearch': {'RMSE': 0.124, 'MAE': 0.088, 'R2': 0.699}}"
      ]
     },
     "execution_count": 81,
     "metadata": {},
     "output_type": "execute_result"
    }
   ],
   "source": [
    "meta_test_performance"
   ]
  },
  {
   "cell_type": "markdown",
   "metadata": {},
   "source": [
    "## Save output"
   ]
  },
  {
   "cell_type": "code",
   "execution_count": 82,
   "metadata": {},
   "outputs": [],
   "source": [
    "save_obj(base_cv_performance, 'data2_base_cv')\n",
    "save_obj(base_test_performance, 'data2_base_test')\n",
    "save_obj(meta_cv_performance, 'data2_meta_cv')\n",
    "save_obj(meta_test_performance, 'data2_meta_test')"
   ]
  },
  {
   "cell_type": "markdown",
   "metadata": {},
   "source": [
    "# Slump Test Data"
   ]
  },
  {
   "cell_type": "markdown",
   "metadata": {},
   "source": [
    "## Pre-processing"
   ]
  },
  {
   "cell_type": "code",
   "execution_count": 84,
   "metadata": {},
   "outputs": [],
   "source": [
    "slump = pd.read_csv(path + \"/data/slump_test.data\", header=0, encoding= 'unicode_escape')"
   ]
  },
  {
   "cell_type": "code",
   "execution_count": 85,
   "metadata": {},
   "outputs": [],
   "source": [
    "slump.rename(columns={'Fly ash': 'FlyAsh', 'Coarse Aggr.': 'CoarseAggr', 'Fine Aggr.': 'FineAggr', 'SLUMP(cm)': 'Slump' , 'FLOW(cm)' : 'Flow' , 'Compressive Strength (28-day)(Mpa)': 'CompressiveStr'}, inplace=True)"
   ]
  },
  {
   "cell_type": "code",
   "execution_count": 86,
   "metadata": {},
   "outputs": [],
   "source": [
    "slump.drop(columns=['No'], inplace=True)"
   ]
  },
  {
   "cell_type": "code",
   "execution_count": 87,
   "metadata": {},
   "outputs": [],
   "source": [
    "#slump.drop(slump.tail(1).index,inplace=True)"
   ]
  },
  {
   "cell_type": "code",
   "execution_count": 88,
   "metadata": {},
   "outputs": [
    {
     "name": "stdout",
     "output_type": "stream",
     "text": [
      "<class 'pandas.core.frame.DataFrame'>\n",
      "RangeIndex: 103 entries, 0 to 102\n",
      "Data columns (total 10 columns):\n",
      " #   Column          Non-Null Count  Dtype  \n",
      "---  ------          --------------  -----  \n",
      " 0   Cement          103 non-null    float64\n",
      " 1   Slag            103 non-null    float64\n",
      " 2   FlyAsh          103 non-null    float64\n",
      " 3   Water           103 non-null    float64\n",
      " 4   SP              103 non-null    float64\n",
      " 5   CoarseAggr      103 non-null    float64\n",
      " 6   FineAggr        103 non-null    float64\n",
      " 7   Slump           103 non-null    float64\n",
      " 8   Flow            103 non-null    float64\n",
      " 9   CompressiveStr  103 non-null    float64\n",
      "dtypes: float64(10)\n",
      "memory usage: 8.2 KB\n"
     ]
    }
   ],
   "source": [
    "slump.info()"
   ]
  },
  {
   "cell_type": "code",
   "execution_count": 89,
   "metadata": {},
   "outputs": [
    {
     "data": {
      "text/html": [
       "<div>\n",
       "<style scoped>\n",
       "    .dataframe tbody tr th:only-of-type {\n",
       "        vertical-align: middle;\n",
       "    }\n",
       "\n",
       "    .dataframe tbody tr th {\n",
       "        vertical-align: top;\n",
       "    }\n",
       "\n",
       "    .dataframe thead th {\n",
       "        text-align: right;\n",
       "    }\n",
       "</style>\n",
       "<table border=\"1\" class=\"dataframe\">\n",
       "  <thead>\n",
       "    <tr style=\"text-align: right;\">\n",
       "      <th></th>\n",
       "      <th>count</th>\n",
       "      <th>mean</th>\n",
       "      <th>std</th>\n",
       "      <th>min</th>\n",
       "      <th>25%</th>\n",
       "      <th>50%</th>\n",
       "      <th>75%</th>\n",
       "      <th>max</th>\n",
       "    </tr>\n",
       "  </thead>\n",
       "  <tbody>\n",
       "    <tr>\n",
       "      <th>Cement</th>\n",
       "      <td>103.0</td>\n",
       "      <td>229.894175</td>\n",
       "      <td>78.877230</td>\n",
       "      <td>137.00</td>\n",
       "      <td>152.00</td>\n",
       "      <td>248.00</td>\n",
       "      <td>303.900</td>\n",
       "      <td>374.00</td>\n",
       "    </tr>\n",
       "    <tr>\n",
       "      <th>Slag</th>\n",
       "      <td>103.0</td>\n",
       "      <td>77.973786</td>\n",
       "      <td>60.461363</td>\n",
       "      <td>0.00</td>\n",
       "      <td>0.05</td>\n",
       "      <td>100.00</td>\n",
       "      <td>125.000</td>\n",
       "      <td>193.00</td>\n",
       "    </tr>\n",
       "    <tr>\n",
       "      <th>FlyAsh</th>\n",
       "      <td>103.0</td>\n",
       "      <td>149.014563</td>\n",
       "      <td>85.418080</td>\n",
       "      <td>0.00</td>\n",
       "      <td>115.50</td>\n",
       "      <td>164.00</td>\n",
       "      <td>235.950</td>\n",
       "      <td>260.00</td>\n",
       "    </tr>\n",
       "    <tr>\n",
       "      <th>Water</th>\n",
       "      <td>103.0</td>\n",
       "      <td>197.167961</td>\n",
       "      <td>20.208158</td>\n",
       "      <td>160.00</td>\n",
       "      <td>180.00</td>\n",
       "      <td>196.00</td>\n",
       "      <td>209.500</td>\n",
       "      <td>240.00</td>\n",
       "    </tr>\n",
       "    <tr>\n",
       "      <th>SP</th>\n",
       "      <td>103.0</td>\n",
       "      <td>8.539806</td>\n",
       "      <td>2.807530</td>\n",
       "      <td>4.40</td>\n",
       "      <td>6.00</td>\n",
       "      <td>8.00</td>\n",
       "      <td>10.000</td>\n",
       "      <td>19.00</td>\n",
       "    </tr>\n",
       "    <tr>\n",
       "      <th>CoarseAggr</th>\n",
       "      <td>103.0</td>\n",
       "      <td>883.978641</td>\n",
       "      <td>88.391393</td>\n",
       "      <td>708.00</td>\n",
       "      <td>819.50</td>\n",
       "      <td>879.00</td>\n",
       "      <td>952.800</td>\n",
       "      <td>1049.90</td>\n",
       "    </tr>\n",
       "    <tr>\n",
       "      <th>FineAggr</th>\n",
       "      <td>103.0</td>\n",
       "      <td>739.604854</td>\n",
       "      <td>63.342117</td>\n",
       "      <td>640.60</td>\n",
       "      <td>684.50</td>\n",
       "      <td>742.70</td>\n",
       "      <td>788.000</td>\n",
       "      <td>902.00</td>\n",
       "    </tr>\n",
       "    <tr>\n",
       "      <th>Slump</th>\n",
       "      <td>103.0</td>\n",
       "      <td>18.048544</td>\n",
       "      <td>8.750844</td>\n",
       "      <td>0.00</td>\n",
       "      <td>14.50</td>\n",
       "      <td>21.50</td>\n",
       "      <td>24.000</td>\n",
       "      <td>29.00</td>\n",
       "    </tr>\n",
       "    <tr>\n",
       "      <th>Flow</th>\n",
       "      <td>103.0</td>\n",
       "      <td>49.610680</td>\n",
       "      <td>17.568610</td>\n",
       "      <td>20.00</td>\n",
       "      <td>38.50</td>\n",
       "      <td>54.00</td>\n",
       "      <td>63.750</td>\n",
       "      <td>78.00</td>\n",
       "    </tr>\n",
       "    <tr>\n",
       "      <th>CompressiveStr</th>\n",
       "      <td>103.0</td>\n",
       "      <td>36.039417</td>\n",
       "      <td>7.838232</td>\n",
       "      <td>17.19</td>\n",
       "      <td>30.90</td>\n",
       "      <td>35.52</td>\n",
       "      <td>41.205</td>\n",
       "      <td>58.53</td>\n",
       "    </tr>\n",
       "  </tbody>\n",
       "</table>\n",
       "</div>"
      ],
      "text/plain": [
       "                count        mean        std     min     25%     50%      75%  \\\n",
       "Cement          103.0  229.894175  78.877230  137.00  152.00  248.00  303.900   \n",
       "Slag            103.0   77.973786  60.461363    0.00    0.05  100.00  125.000   \n",
       "FlyAsh          103.0  149.014563  85.418080    0.00  115.50  164.00  235.950   \n",
       "Water           103.0  197.167961  20.208158  160.00  180.00  196.00  209.500   \n",
       "SP              103.0    8.539806   2.807530    4.40    6.00    8.00   10.000   \n",
       "CoarseAggr      103.0  883.978641  88.391393  708.00  819.50  879.00  952.800   \n",
       "FineAggr        103.0  739.604854  63.342117  640.60  684.50  742.70  788.000   \n",
       "Slump           103.0   18.048544   8.750844    0.00   14.50   21.50   24.000   \n",
       "Flow            103.0   49.610680  17.568610   20.00   38.50   54.00   63.750   \n",
       "CompressiveStr  103.0   36.039417   7.838232   17.19   30.90   35.52   41.205   \n",
       "\n",
       "                    max  \n",
       "Cement           374.00  \n",
       "Slag             193.00  \n",
       "FlyAsh           260.00  \n",
       "Water            240.00  \n",
       "SP                19.00  \n",
       "CoarseAggr      1049.90  \n",
       "FineAggr         902.00  \n",
       "Slump             29.00  \n",
       "Flow              78.00  \n",
       "CompressiveStr    58.53  "
      ]
     },
     "execution_count": 89,
     "metadata": {},
     "output_type": "execute_result"
    }
   ],
   "source": [
    "slump.describe().transpose()"
   ]
  },
  {
   "cell_type": "code",
   "execution_count": 90,
   "metadata": {},
   "outputs": [],
   "source": [
    "X = slump[['Cement','Slag','FlyAsh','Water','SP','CoarseAggr','FineAggr']]\n",
    "y = slump[['Slump']]\n",
    "#y = slump[['Slump','Flow','CompressiveStr']]"
   ]
  },
  {
   "cell_type": "markdown",
   "metadata": {},
   "source": [
    "## Data Splitting"
   ]
  },
  {
   "cell_type": "code",
   "execution_count": 91,
   "metadata": {},
   "outputs": [],
   "source": [
    "X_train, X_test, y_train, y_test = train_test_split(X, y, test_size=0.2, random_state=333)\n",
    "base_train_prediction = {}\n",
    "base_train_prediction['target'] = y_train.to_numpy().ravel()\n",
    "base_test_prediction = {}\n",
    "base_test_prediction['target'] = y_test.to_numpy().ravel()"
   ]
  },
  {
   "cell_type": "code",
   "execution_count": 92,
   "metadata": {},
   "outputs": [],
   "source": [
    "base_cv_performance = {}\n",
    "base_test_performance = {}\n",
    "meta_cv_performance = {}\n",
    "meta_test_performance = {}"
   ]
  },
  {
   "cell_type": "markdown",
   "metadata": {},
   "source": [
    "## Base-level Learning"
   ]
  },
  {
   "cell_type": "code",
   "execution_count": 93,
   "metadata": {},
   "outputs": [],
   "source": [
    "for m in base_models:\n",
    "    model = base_models[m]\n",
    "    base_test_performance[model.__class__.__name__] = {}\n",
    "    \n",
    "    prediction, performance = base_cv_learning(model, X_train, y_train, 5)\n",
    "    base_train_prediction[model.__class__.__name__] = prediction\n",
    "    base_cv_performance[model.__class__.__name__] = performance\n",
    "    \n",
    "    model.fit(X_train, y_train)\n",
    "    y_pred = model.predict(X_test)\n",
    "    try:\n",
    "        base_test_prediction[model.__class__.__name__] = [items[0] for items in y_pred.tolist()]\n",
    "    except:\n",
    "        base_test_prediction[model.__class__.__name__] = y_pred.tolist()\n",
    "    rmse = mean_squared_error(y_test, y_pred, squared=False)\n",
    "    mae = mean_absolute_error(y_test, y_pred)\n",
    "    r2 = r2_score(y_test, y_pred)\n",
    "    base_test_performance[model.__class__.__name__]['RMSE'] = round(rmse, 3)\n",
    "    base_test_performance[model.__class__.__name__]['MAE'] = round(mae, 3)\n",
    "    base_test_performance[model.__class__.__name__]['R2'] = round(r2, 3)"
   ]
  },
  {
   "cell_type": "code",
   "execution_count": 94,
   "metadata": {},
   "outputs": [
    {
     "data": {
      "text/plain": [
       "{'LinearRegression': {'RMSE': 7.934, 'MAE': 6.498, 'R2': -0.571},\n",
       " 'Ridge': {'RMSE': 7.934, 'MAE': 6.497, 'R2': -0.57},\n",
       " 'Lasso': {'RMSE': 7.804, 'MAE': 6.401, 'R2': -0.523},\n",
       " 'KernelRidge': {'RMSE': 20.051, 'MAE': 18.283, 'R2': -16.7},\n",
       " 'KNeighborsRegressor': {'RMSE': 8.001, 'MAE': 6.033, 'R2': -0.255},\n",
       " 'MLPRegressor': {'RMSE': 17.796, 'MAE': 15.427, 'R2': -7.043},\n",
       " 'SVR': {'RMSE': 8.723, 'MAE': 6.494, 'R2': -0.381},\n",
       " 'DecisionTreeRegressor': {'RMSE': 9.655, 'MAE': 6.501, 'R2': -1.847},\n",
       " 'Earth': {'RMSE': 7.854, 'MAE': 6.325, 'R2': -0.447},\n",
       " 'BaggingRegressor': {'RMSE': 7.611, 'MAE': 5.611, 'R2': -0.288},\n",
       " 'RandomForestRegressor': {'RMSE': 7.179, 'MAE': 5.172, 'R2': -0.22},\n",
       " 'GradientBoostingRegressor': {'RMSE': 8.404, 'MAE': 5.98, 'R2': -0.981},\n",
       " 'XGBRegressor': {'RMSE': 7.853, 'MAE': 5.612, 'R2': -0.621},\n",
       " 'LGBMRegressor': {'RMSE': 7.534, 'MAE': 5.947, 'R2': -0.194},\n",
       " 'CatBoostRegressor': {'RMSE': 7.55, 'MAE': 5.446, 'R2': -0.341}}"
      ]
     },
     "execution_count": 94,
     "metadata": {},
     "output_type": "execute_result"
    }
   ],
   "source": [
    "base_cv_performance"
   ]
  },
  {
   "cell_type": "code",
   "execution_count": 95,
   "metadata": {},
   "outputs": [
    {
     "data": {
      "text/plain": [
       "{'LinearRegression': {'RMSE': 9.095, 'MAE': 7.076, 'R2': -0.021},\n",
       " 'Ridge': {'RMSE': 9.094, 'MAE': 7.076, 'R2': -0.021},\n",
       " 'Lasso': {'RMSE': 8.987, 'MAE': 7.067, 'R2': 0.003},\n",
       " 'KernelRidge': {'RMSE': 19.151, 'MAE': 16.904, 'R2': -3.526},\n",
       " 'KNeighborsRegressor': {'RMSE': 11.173, 'MAE': 8.326, 'R2': -0.54},\n",
       " 'MLPRegressor': {'RMSE': 9.323, 'MAE': 6.278, 'R2': -0.072},\n",
       " 'SVR': {'RMSE': 10.264, 'MAE': 6.858, 'R2': -0.3},\n",
       " 'DecisionTreeRegressor': {'RMSE': 11.698, 'MAE': 8.298, 'R2': -0.689},\n",
       " 'Earth': {'RMSE': 8.807, 'MAE': 7.166, 'R2': 0.043},\n",
       " 'BaggingRegressor': {'RMSE': 9.336, 'MAE': 6.706, 'R2': -0.076},\n",
       " 'RandomForestRegressor': {'RMSE': 8.328, 'MAE': 6.202, 'R2': 0.144},\n",
       " 'GradientBoostingRegressor': {'RMSE': 9.826, 'MAE': 6.714, 'R2': -0.191},\n",
       " 'XGBRegressor': {'RMSE': 9.805, 'MAE': 7.186, 'R2': -0.186},\n",
       " 'LGBMRegressor': {'RMSE': 8.981, 'MAE': 6.878, 'R2': 0.005},\n",
       " 'CatBoostRegressor': {'RMSE': 9.116, 'MAE': 6.394, 'R2': -0.025}}"
      ]
     },
     "execution_count": 95,
     "metadata": {},
     "output_type": "execute_result"
    }
   ],
   "source": [
    "base_test_performance"
   ]
  },
  {
   "cell_type": "markdown",
   "metadata": {},
   "source": [
    "## Meta-level Learning"
   ]
  },
  {
   "cell_type": "code",
   "execution_count": 96,
   "metadata": {},
   "outputs": [],
   "source": [
    "df_train_meta = pd.DataFrame(base_train_prediction)\n",
    "y_train_meta = df_train_meta[['target']]\n",
    "X_train_meta = df_train_meta.drop(columns=['target'], axis=1)"
   ]
  },
  {
   "cell_type": "code",
   "execution_count": 97,
   "metadata": {},
   "outputs": [],
   "source": [
    "df_test_meta = pd.DataFrame(base_test_prediction)\n",
    "y_test_meta = df_test_meta[['target']].to_numpy().ravel()\n",
    "X_test_meta = df_test_meta.drop(columns=['target'], axis=1).to_numpy()"
   ]
  },
  {
   "cell_type": "code",
   "execution_count": 98,
   "metadata": {},
   "outputs": [],
   "source": [
    "for m in meta_models:\n",
    "    model = meta_models[m]\n",
    "    meta_test_performance[model.__class__.__name__] = {}\n",
    "    \n",
    "    performance = meta_cv_learning(model, X_train_meta, y_train_meta, 5)\n",
    "    meta_cv_performance[model.__class__.__name__] = performance\n",
    "    \n",
    "    model.fit(X_train_meta.to_numpy(), y_train_meta.to_numpy().ravel())\n",
    "    y_pred = model.predict(X_test_meta)\n",
    "    rmse = mean_squared_error(y_test_meta, y_pred, squared=False)\n",
    "    mae = mean_absolute_error(y_test_meta, y_pred)\n",
    "    r2 = r2_score(y_test, y_pred)\n",
    "    meta_test_performance[model.__class__.__name__]['RMSE'] = round(rmse, 3)\n",
    "    meta_test_performance[model.__class__.__name__]['MAE'] = round(mae, 3)\n",
    "    meta_test_performance[model.__class__.__name__]['R2'] = round(r2, 3)"
   ]
  },
  {
   "cell_type": "code",
   "execution_count": 99,
   "metadata": {},
   "outputs": [
    {
     "data": {
      "text/plain": [
       "{'LinearRegression': {'RMSE': 9.805, 'MAE': 7.378, 'R2': -1.226},\n",
       " 'Ridge': {'RMSE': 9.462, 'MAE': 7.215, 'R2': -1.005},\n",
       " 'LinearSearch': {'RMSE': 8.193, 'MAE': 6.233, 'R2': -0.692},\n",
       " 'DifferentialEvolution': {'RMSE': 9.221, 'MAE': 6.995, 'R2': -1.438},\n",
       " 'GeneticAlgorithm': {'RMSE': 9.012, 'MAE': 6.702, 'R2': -1.225},\n",
       " 'ParticleSwarmOptimization': {'RMSE': 9.188, 'MAE': 6.692, 'R2': -1.311},\n",
       " 'SimulatedAnnealing': {'RMSE': 8.416, 'MAE': 6.309, 'R2': -0.85},\n",
       " 'GreedySearch': {'RMSE': 15.436, 'MAE': 14.318, 'R2': -11.072}}"
      ]
     },
     "execution_count": 99,
     "metadata": {},
     "output_type": "execute_result"
    }
   ],
   "source": [
    "meta_cv_performance"
   ]
  },
  {
   "cell_type": "code",
   "execution_count": 100,
   "metadata": {},
   "outputs": [
    {
     "data": {
      "text/plain": [
       "{'LinearRegression': {'RMSE': 8.22, 'MAE': 6.746, 'R2': 0.166},\n",
       " 'Ridge': {'RMSE': 8.125, 'MAE': 6.579, 'R2': 0.185},\n",
       " 'LinearSearch': {'RMSE': 8.632, 'MAE': 6.72, 'R2': 0.081},\n",
       " 'DifferentialEvolution': {'RMSE': 8.66, 'MAE': 6.482, 'R2': 0.075},\n",
       " 'GeneticAlgorithm': {'RMSE': 8.651, 'MAE': 6.542, 'R2': 0.077},\n",
       " 'ParticleSwarmOptimization': {'RMSE': 8.738, 'MAE': 6.641, 'R2': 0.058},\n",
       " 'SimulatedAnnealing': {'RMSE': 7.532, 'MAE': 6.131, 'R2': 0.3},\n",
       " 'GreedySearch': {'RMSE': 14.921, 'MAE': 13.418, 'R2': -1.747}}"
      ]
     },
     "execution_count": 100,
     "metadata": {},
     "output_type": "execute_result"
    }
   ],
   "source": [
    "meta_test_performance"
   ]
  },
  {
   "cell_type": "markdown",
   "metadata": {},
   "source": [
    "## Save output"
   ]
  },
  {
   "cell_type": "code",
   "execution_count": 101,
   "metadata": {},
   "outputs": [],
   "source": [
    "save_obj(base_cv_performance, 'data3_base_cv')\n",
    "save_obj(base_test_performance, 'data3_base_test')\n",
    "save_obj(meta_cv_performance, 'data3_meta_cv')\n",
    "save_obj(meta_test_performance, 'data3_meta_test')"
   ]
  },
  {
   "cell_type": "markdown",
   "metadata": {},
   "source": [
    "# Sock Portfolio Data"
   ]
  },
  {
   "cell_type": "markdown",
   "metadata": {},
   "source": [
    "## Pre-processing"
   ]
  },
  {
   "cell_type": "code",
   "execution_count": 103,
   "metadata": {},
   "outputs": [],
   "source": [
    "stock = pd.read_csv(path + \"/data/Stock Portofolio.csv\", header=0, encoding= 'unicode_escape')"
   ]
  },
  {
   "cell_type": "code",
   "execution_count": 104,
   "metadata": {},
   "outputs": [],
   "source": [
    "stock.rename(columns=dict(zip(stock.columns, ['largeBP', 'largeROE', 'largeSP', 'largeReturn', 'largeValue', 'smallRisk', 'Return'])), inplace=True)"
   ]
  },
  {
   "cell_type": "code",
   "execution_count": 105,
   "metadata": {},
   "outputs": [
    {
     "data": {
      "text/html": [
       "<div>\n",
       "<style scoped>\n",
       "    .dataframe tbody tr th:only-of-type {\n",
       "        vertical-align: middle;\n",
       "    }\n",
       "\n",
       "    .dataframe tbody tr th {\n",
       "        vertical-align: top;\n",
       "    }\n",
       "\n",
       "    .dataframe thead th {\n",
       "        text-align: right;\n",
       "    }\n",
       "</style>\n",
       "<table border=\"1\" class=\"dataframe\">\n",
       "  <thead>\n",
       "    <tr style=\"text-align: right;\">\n",
       "      <th></th>\n",
       "      <th>count</th>\n",
       "      <th>mean</th>\n",
       "      <th>std</th>\n",
       "      <th>min</th>\n",
       "      <th>25%</th>\n",
       "      <th>50%</th>\n",
       "      <th>75%</th>\n",
       "      <th>max</th>\n",
       "    </tr>\n",
       "  </thead>\n",
       "  <tbody>\n",
       "    <tr>\n",
       "      <th>largeBP</th>\n",
       "      <td>63.0</td>\n",
       "      <td>0.166619</td>\n",
       "      <td>0.199304</td>\n",
       "      <td>0.0</td>\n",
       "      <td>0.0</td>\n",
       "      <td>0.167</td>\n",
       "      <td>0.2915</td>\n",
       "      <td>1.0</td>\n",
       "    </tr>\n",
       "    <tr>\n",
       "      <th>largeROE</th>\n",
       "      <td>63.0</td>\n",
       "      <td>0.166619</td>\n",
       "      <td>0.199304</td>\n",
       "      <td>0.0</td>\n",
       "      <td>0.0</td>\n",
       "      <td>0.167</td>\n",
       "      <td>0.2915</td>\n",
       "      <td>1.0</td>\n",
       "    </tr>\n",
       "    <tr>\n",
       "      <th>largeSP</th>\n",
       "      <td>63.0</td>\n",
       "      <td>0.166619</td>\n",
       "      <td>0.199304</td>\n",
       "      <td>0.0</td>\n",
       "      <td>0.0</td>\n",
       "      <td>0.167</td>\n",
       "      <td>0.2915</td>\n",
       "      <td>1.0</td>\n",
       "    </tr>\n",
       "    <tr>\n",
       "      <th>largeReturn</th>\n",
       "      <td>63.0</td>\n",
       "      <td>0.166619</td>\n",
       "      <td>0.199304</td>\n",
       "      <td>0.0</td>\n",
       "      <td>0.0</td>\n",
       "      <td>0.167</td>\n",
       "      <td>0.2915</td>\n",
       "      <td>1.0</td>\n",
       "    </tr>\n",
       "    <tr>\n",
       "      <th>largeValue</th>\n",
       "      <td>63.0</td>\n",
       "      <td>0.166619</td>\n",
       "      <td>0.199304</td>\n",
       "      <td>0.0</td>\n",
       "      <td>0.0</td>\n",
       "      <td>0.167</td>\n",
       "      <td>0.2915</td>\n",
       "      <td>1.0</td>\n",
       "    </tr>\n",
       "    <tr>\n",
       "      <th>smallRisk</th>\n",
       "      <td>63.0</td>\n",
       "      <td>0.166619</td>\n",
       "      <td>0.199304</td>\n",
       "      <td>0.0</td>\n",
       "      <td>0.0</td>\n",
       "      <td>0.167</td>\n",
       "      <td>0.2915</td>\n",
       "      <td>1.0</td>\n",
       "    </tr>\n",
       "    <tr>\n",
       "      <th>Return</th>\n",
       "      <td>63.0</td>\n",
       "      <td>14.923810</td>\n",
       "      <td>2.787224</td>\n",
       "      <td>7.0</td>\n",
       "      <td>13.8</td>\n",
       "      <td>15.300</td>\n",
       "      <td>17.0000</td>\n",
       "      <td>19.5</td>\n",
       "    </tr>\n",
       "  </tbody>\n",
       "</table>\n",
       "</div>"
      ],
      "text/plain": [
       "             count       mean       std  min   25%     50%      75%   max\n",
       "largeBP       63.0   0.166619  0.199304  0.0   0.0   0.167   0.2915   1.0\n",
       "largeROE      63.0   0.166619  0.199304  0.0   0.0   0.167   0.2915   1.0\n",
       "largeSP       63.0   0.166619  0.199304  0.0   0.0   0.167   0.2915   1.0\n",
       "largeReturn   63.0   0.166619  0.199304  0.0   0.0   0.167   0.2915   1.0\n",
       "largeValue    63.0   0.166619  0.199304  0.0   0.0   0.167   0.2915   1.0\n",
       "smallRisk     63.0   0.166619  0.199304  0.0   0.0   0.167   0.2915   1.0\n",
       "Return        63.0  14.923810  2.787224  7.0  13.8  15.300  17.0000  19.5"
      ]
     },
     "execution_count": 105,
     "metadata": {},
     "output_type": "execute_result"
    }
   ],
   "source": [
    "stock.describe().transpose()"
   ]
  },
  {
   "cell_type": "code",
   "execution_count": 106,
   "metadata": {},
   "outputs": [
    {
     "name": "stdout",
     "output_type": "stream",
     "text": [
      "<class 'pandas.core.frame.DataFrame'>\n",
      "RangeIndex: 63 entries, 0 to 62\n",
      "Data columns (total 7 columns):\n",
      " #   Column       Non-Null Count  Dtype  \n",
      "---  ------       --------------  -----  \n",
      " 0   largeBP      63 non-null     float64\n",
      " 1   largeROE     63 non-null     float64\n",
      " 2   largeSP      63 non-null     float64\n",
      " 3   largeReturn  63 non-null     float64\n",
      " 4   largeValue   63 non-null     float64\n",
      " 5   smallRisk    63 non-null     float64\n",
      " 6   Return       63 non-null     float64\n",
      "dtypes: float64(7)\n",
      "memory usage: 3.6 KB\n"
     ]
    }
   ],
   "source": [
    "stock.info()"
   ]
  },
  {
   "cell_type": "code",
   "execution_count": 107,
   "metadata": {},
   "outputs": [],
   "source": [
    "X = stock[['largeBP','largeROE','largeSP','largeReturn','largeValue','smallRisk']]\n",
    "y = stock[['Return']]"
   ]
  },
  {
   "cell_type": "markdown",
   "metadata": {},
   "source": [
    "## Data Splitting"
   ]
  },
  {
   "cell_type": "code",
   "execution_count": 108,
   "metadata": {},
   "outputs": [],
   "source": [
    "X_train, X_test, y_train, y_test = train_test_split(X, y, test_size=0.2, random_state=333)\n",
    "base_train_prediction = {}\n",
    "base_train_prediction['target'] = y_train.to_numpy().ravel()\n",
    "base_test_prediction = {}\n",
    "base_test_prediction['target'] = y_test.to_numpy().ravel()"
   ]
  },
  {
   "cell_type": "code",
   "execution_count": 109,
   "metadata": {},
   "outputs": [],
   "source": [
    "base_cv_performance = {}\n",
    "base_test_performance = {}\n",
    "meta_cv_performance = {}\n",
    "meta_test_performance = {}"
   ]
  },
  {
   "cell_type": "markdown",
   "metadata": {},
   "source": [
    "## Base-level Learning"
   ]
  },
  {
   "cell_type": "code",
   "execution_count": 110,
   "metadata": {},
   "outputs": [],
   "source": [
    "for m in base_models:\n",
    "    model = base_models[m]\n",
    "    base_test_performance[model.__class__.__name__] = {}\n",
    "    \n",
    "    prediction, performance = base_cv_learning(model, X_train, y_train, 5)\n",
    "    base_train_prediction[model.__class__.__name__] = prediction\n",
    "    base_cv_performance[model.__class__.__name__] = performance\n",
    "    \n",
    "    model.fit(X_train, y_train)\n",
    "    y_pred = model.predict(X_test)\n",
    "    try:\n",
    "        base_test_prediction[model.__class__.__name__] = [items[0] for items in y_pred.tolist()]\n",
    "    except:\n",
    "        base_test_prediction[model.__class__.__name__] = y_pred.tolist()\n",
    "    rmse = mean_squared_error(y_test, y_pred, squared=False)\n",
    "    mae = mean_absolute_error(y_test, y_pred)\n",
    "    r2 = r2_score(y_test, y_pred)\n",
    "    base_test_performance[model.__class__.__name__]['RMSE'] = round(rmse, 3)\n",
    "    base_test_performance[model.__class__.__name__]['MAE'] = round(mae, 3)\n",
    "    base_test_performance[model.__class__.__name__]['R2'] = round(r2, 3)"
   ]
  },
  {
   "cell_type": "code",
   "execution_count": 111,
   "metadata": {},
   "outputs": [
    {
     "data": {
      "text/plain": [
       "{'LinearRegression': {'RMSE': 2.282, 'MAE': 1.874, 'R2': 0.272},\n",
       " 'Ridge': {'RMSE': 2.12, 'MAE': 1.782, 'R2': 0.381},\n",
       " 'Lasso': {'RMSE': 2.728, 'MAE': 2.147, 'R2': -0.025},\n",
       " 'KernelRidge': {'RMSE': 2.056, 'MAE': 1.694, 'R2': 0.424},\n",
       " 'KNeighborsRegressor': {'RMSE': 1.959, 'MAE': 1.432, 'R2': 0.463},\n",
       " 'MLPRegressor': {'RMSE': 1.9, 'MAE': 1.611, 'R2': 0.502},\n",
       " 'SVR': {'RMSE': 1.888, 'MAE': 1.342, 'R2': 0.51},\n",
       " 'DecisionTreeRegressor': {'RMSE': 1.642, 'MAE': 1.394, 'R2': 0.622},\n",
       " 'Earth': {'RMSE': 1.428, 'MAE': 1.208, 'R2': 0.714},\n",
       " 'BaggingRegressor': {'RMSE': 1.727, 'MAE': 1.4, 'R2': 0.583},\n",
       " 'RandomForestRegressor': {'RMSE': 1.577, 'MAE': 1.291, 'R2': 0.654},\n",
       " 'GradientBoostingRegressor': {'RMSE': 1.157, 'MAE': 0.958, 'R2': 0.806},\n",
       " 'XGBRegressor': {'RMSE': 1.726, 'MAE': 1.347, 'R2': 0.593},\n",
       " 'LGBMRegressor': {'RMSE': 2.699, 'MAE': 2.114, 'R2': -0.04},\n",
       " 'CatBoostRegressor': {'RMSE': 1.545, 'MAE': 1.172, 'R2': 0.672}}"
      ]
     },
     "execution_count": 111,
     "metadata": {},
     "output_type": "execute_result"
    }
   ],
   "source": [
    "base_cv_performance"
   ]
  },
  {
   "cell_type": "code",
   "execution_count": 112,
   "metadata": {},
   "outputs": [
    {
     "data": {
      "text/plain": [
       "{'LinearRegression': {'RMSE': 1.49, 'MAE': 1.267, 'R2': 0.719},\n",
       " 'Ridge': {'RMSE': 1.842, 'MAE': 1.611, 'R2': 0.571},\n",
       " 'Lasso': {'RMSE': 2.879, 'MAE': 2.307, 'R2': -0.049},\n",
       " 'KernelRidge': {'RMSE': 2.119, 'MAE': 1.723, 'R2': 0.432},\n",
       " 'KNeighborsRegressor': {'RMSE': 1.751, 'MAE': 1.489, 'R2': 0.612},\n",
       " 'MLPRegressor': {'RMSE': 1.487, 'MAE': 1.299, 'R2': 0.72},\n",
       " 'SVR': {'RMSE': 1.822, 'MAE': 1.382, 'R2': 0.58},\n",
       " 'DecisionTreeRegressor': {'RMSE': 1.951, 'MAE': 1.546, 'R2': 0.519},\n",
       " 'Earth': {'RMSE': 1.499, 'MAE': 1.157, 'R2': 0.716},\n",
       " 'BaggingRegressor': {'RMSE': 1.881, 'MAE': 1.604, 'R2': 0.552},\n",
       " 'RandomForestRegressor': {'RMSE': 1.614, 'MAE': 1.401, 'R2': 0.671},\n",
       " 'GradientBoostingRegressor': {'RMSE': 1.155, 'MAE': 0.922, 'R2': 0.831},\n",
       " 'XGBRegressor': {'RMSE': 1.232, 'MAE': 0.971, 'R2': 0.808},\n",
       " 'LGBMRegressor': {'RMSE': 1.505, 'MAE': 1.121, 'R2': 0.714},\n",
       " 'CatBoostRegressor': {'RMSE': 1.54, 'MAE': 1.25, 'R2': 0.7}}"
      ]
     },
     "execution_count": 112,
     "metadata": {},
     "output_type": "execute_result"
    }
   ],
   "source": [
    "base_test_performance"
   ]
  },
  {
   "cell_type": "markdown",
   "metadata": {},
   "source": [
    "## Meta-level Learning"
   ]
  },
  {
   "cell_type": "code",
   "execution_count": 113,
   "metadata": {},
   "outputs": [],
   "source": [
    "df_train_meta = pd.DataFrame(base_train_prediction)\n",
    "y_train_meta = df_train_meta[['target']]\n",
    "X_train_meta = df_train_meta.drop(columns=['target'], axis=1)"
   ]
  },
  {
   "cell_type": "code",
   "execution_count": 114,
   "metadata": {},
   "outputs": [],
   "source": [
    "df_test_meta = pd.DataFrame(base_test_prediction)\n",
    "y_test_meta = df_test_meta[['target']].to_numpy().ravel()\n",
    "X_test_meta = df_test_meta.drop(columns=['target'], axis=1).to_numpy()"
   ]
  },
  {
   "cell_type": "code",
   "execution_count": 115,
   "metadata": {},
   "outputs": [],
   "source": [
    "for m in meta_models:\n",
    "    model = meta_models[m]\n",
    "    meta_test_performance[model.__class__.__name__] = {}\n",
    "    \n",
    "    performance = meta_cv_learning(model, X_train_meta, y_train_meta, 5)\n",
    "    meta_cv_performance[model.__class__.__name__] = performance\n",
    "    \n",
    "    model.fit(X_train_meta.to_numpy(), y_train_meta.to_numpy().ravel())\n",
    "    y_pred = model.predict(X_test_meta)\n",
    "    rmse = mean_squared_error(y_test_meta, y_pred, squared=False)\n",
    "    mae = mean_absolute_error(y_test_meta, y_pred)\n",
    "    r2 = r2_score(y_test, y_pred)\n",
    "    meta_test_performance[model.__class__.__name__]['RMSE'] = round(rmse, 3)\n",
    "    meta_test_performance[model.__class__.__name__]['MAE'] = round(mae, 3)\n",
    "    meta_test_performance[model.__class__.__name__]['R2'] = round(r2, 3)"
   ]
  },
  {
   "cell_type": "code",
   "execution_count": 116,
   "metadata": {},
   "outputs": [
    {
     "data": {
      "text/plain": [
       "{'LinearRegression': {'RMSE': 1.521, 'MAE': 1.275, 'R2': 0.683},\n",
       " 'Ridge': {'RMSE': 1.344, 'MAE': 1.147, 'R2': 0.753},\n",
       " 'LinearSearch': {'RMSE': 1.214, 'MAE': 1.005, 'R2': 0.792},\n",
       " 'DifferentialEvolution': {'RMSE': 1.207, 'MAE': 1.054, 'R2': 0.797},\n",
       " 'GeneticAlgorithm': {'RMSE': 1.182, 'MAE': 0.994, 'R2': 0.806},\n",
       " 'ParticleSwarmOptimization': {'RMSE': 1.373, 'MAE': 1.18, 'R2': 0.743},\n",
       " 'SimulatedAnnealing': {'RMSE': 1.166, 'MAE': 0.992, 'R2': 0.809},\n",
       " 'GreedySearch': {'RMSE': 1.979, 'MAE': 1.546, 'R2': 0.466}}"
      ]
     },
     "execution_count": 116,
     "metadata": {},
     "output_type": "execute_result"
    }
   ],
   "source": [
    "meta_cv_performance"
   ]
  },
  {
   "cell_type": "code",
   "execution_count": 117,
   "metadata": {},
   "outputs": [
    {
     "data": {
      "text/plain": [
       "{'LinearRegression': {'RMSE': 1.408, 'MAE': 1.058, 'R2': 0.749},\n",
       " 'Ridge': {'RMSE': 1.162, 'MAE': 0.905, 'R2': 0.829},\n",
       " 'LinearSearch': {'RMSE': 1.418, 'MAE': 1.233, 'R2': 0.746},\n",
       " 'DifferentialEvolution': {'RMSE': 1.008, 'MAE': 0.799, 'R2': 0.872},\n",
       " 'GeneticAlgorithm': {'RMSE': 0.979, 'MAE': 0.797, 'R2': 0.879},\n",
       " 'ParticleSwarmOptimization': {'RMSE': 1.159, 'MAE': 0.876, 'R2': 0.83},\n",
       " 'SimulatedAnnealing': {'RMSE': 1.368, 'MAE': 1.084, 'R2': 0.763},\n",
       " 'GreedySearch': {'RMSE': 1.952, 'MAE': 1.651, 'R2': 0.518}}"
      ]
     },
     "execution_count": 117,
     "metadata": {},
     "output_type": "execute_result"
    }
   ],
   "source": [
    "meta_test_performance"
   ]
  },
  {
   "cell_type": "markdown",
   "metadata": {},
   "source": [
    "## Save output"
   ]
  },
  {
   "cell_type": "code",
   "execution_count": 118,
   "metadata": {},
   "outputs": [],
   "source": [
    "save_obj(base_cv_performance, 'data4_base_cv')\n",
    "save_obj(base_test_performance, 'data4_base_test')\n",
    "save_obj(meta_cv_performance, 'data4_meta_cv')\n",
    "save_obj(meta_test_performance, 'data4_meta_test')"
   ]
  },
  {
   "cell_type": "markdown",
   "metadata": {},
   "source": [
    "# Analysis"
   ]
  },
  {
   "cell_type": "code",
   "execution_count": 137,
   "metadata": {},
   "outputs": [],
   "source": [
    "for i in range(1,5):\n",
    "    name = 'data{}'.format(i)\n",
    "    \n",
    "    # Base CV\n",
    "    metrics00 = load_obj('{}_base_cv'.format(name))\n",
    "    metrics00 = pd.DataFrame.from_dict(metrics00).transpose()\n",
    "    metrics00.columns = [str(col) + '_CV' for col in metrics00.columns]\n",
    "    metrics00.index.name = 'model'\n",
    "    metrics00 = pd.concat({'base-level': metrics00}, names=['type'])\n",
    "    \n",
    "    # Base Test\n",
    "    metrics01 = load_obj('{}_base_test'.format(name))\n",
    "    metrics01 = pd.DataFrame.from_dict(metrics01).transpose()\n",
    "    metrics01.columns = [str(col) + '_Test' for col in metrics01.columns]\n",
    "    metrics01.index.name = 'model'\n",
    "    metrics01 = pd.concat({'base-level': metrics01}, names=['type'])\n",
    "    \n",
    "    metrics0 = metrics00.join(metrics01)\n",
    "    \n",
    "    # Meta CV\n",
    "    metrics10 = load_obj('{}_meta_cv'.format(name))\n",
    "    metrics10 = pd.DataFrame.from_dict(metrics10).transpose()\n",
    "    metrics10.columns = [str(col) + '_CV' for col in metrics10.columns]\n",
    "    metrics10.index.name = 'model'\n",
    "    metrics10 = pd.concat({'meta-level': metrics10}, names=['type'])\n",
    "    \n",
    "    # Meta Test\n",
    "    metrics11 = load_obj('{}_meta_test'.format(name))\n",
    "    metrics11 = pd.DataFrame.from_dict(metrics11).transpose()\n",
    "    metrics11.columns = [str(col) + '_Test' for col in metrics11.columns]\n",
    "    metrics11.index.name = 'model'\n",
    "    metrics11 = pd.concat({'meta-level': metrics11}, names=['type'])\n",
    "    \n",
    "    metrics1 = metrics10.join(metrics11)\n",
    "    \n",
    "    final_metrics = pd.concat([metrics0, metrics1])\n",
    "    final_metrics.to_pickle(path + '/output/metrics_'+ name + '.pkl')"
   ]
  },
  {
   "cell_type": "code",
   "execution_count": 138,
   "metadata": {},
   "outputs": [],
   "source": [
    "metrics_data1 = pd.read_pickle(path + '/output/metrics_data1.pkl')\n",
    "metrics_data2 = pd.read_pickle(path + '/output/metrics_data2.pkl')\n",
    "metrics_data3 = pd.read_pickle(path + '/output/metrics_data3.pkl')\n",
    "metrics_data4 = pd.read_pickle(path + '/output/metrics_data4.pkl')"
   ]
  },
  {
   "cell_type": "code",
   "execution_count": 139,
   "metadata": {},
   "outputs": [
    {
     "data": {
      "text/html": [
       "<div>\n",
       "<style scoped>\n",
       "    .dataframe tbody tr th:only-of-type {\n",
       "        vertical-align: middle;\n",
       "    }\n",
       "\n",
       "    .dataframe tbody tr th {\n",
       "        vertical-align: top;\n",
       "    }\n",
       "\n",
       "    .dataframe thead th {\n",
       "        text-align: right;\n",
       "    }\n",
       "</style>\n",
       "<table border=\"1\" class=\"dataframe\">\n",
       "  <thead>\n",
       "    <tr style=\"text-align: right;\">\n",
       "      <th></th>\n",
       "      <th></th>\n",
       "      <th>RMSE_CV</th>\n",
       "      <th>MAE_CV</th>\n",
       "      <th>R2_CV</th>\n",
       "      <th>RMSE_Test</th>\n",
       "      <th>MAE_Test</th>\n",
       "      <th>R2_Test</th>\n",
       "    </tr>\n",
       "    <tr>\n",
       "      <th>type</th>\n",
       "      <th>model</th>\n",
       "      <th></th>\n",
       "      <th></th>\n",
       "      <th></th>\n",
       "      <th></th>\n",
       "      <th></th>\n",
       "      <th></th>\n",
       "    </tr>\n",
       "  </thead>\n",
       "  <tbody>\n",
       "    <tr>\n",
       "      <th rowspan=\"15\" valign=\"top\">base-level</th>\n",
       "      <th>LinearRegression</th>\n",
       "      <td>431.884</td>\n",
       "      <td>322.458</td>\n",
       "      <td>0.550</td>\n",
       "      <td>437.853</td>\n",
       "      <td>326.765</td>\n",
       "      <td>0.542</td>\n",
       "    </tr>\n",
       "    <tr>\n",
       "      <th>Ridge</th>\n",
       "      <td>431.879</td>\n",
       "      <td>322.428</td>\n",
       "      <td>0.550</td>\n",
       "      <td>437.865</td>\n",
       "      <td>326.748</td>\n",
       "      <td>0.542</td>\n",
       "    </tr>\n",
       "    <tr>\n",
       "      <th>Lasso</th>\n",
       "      <td>431.885</td>\n",
       "      <td>322.145</td>\n",
       "      <td>0.550</td>\n",
       "      <td>438.698</td>\n",
       "      <td>327.013</td>\n",
       "      <td>0.540</td>\n",
       "    </tr>\n",
       "    <tr>\n",
       "      <th>KernelRidge</th>\n",
       "      <td>318.111</td>\n",
       "      <td>216.826</td>\n",
       "      <td>0.756</td>\n",
       "      <td>333.564</td>\n",
       "      <td>227.020</td>\n",
       "      <td>0.734</td>\n",
       "    </tr>\n",
       "    <tr>\n",
       "      <th>KNeighborsRegressor</th>\n",
       "      <td>308.562</td>\n",
       "      <td>196.401</td>\n",
       "      <td>0.770</td>\n",
       "      <td>306.489</td>\n",
       "      <td>192.451</td>\n",
       "      <td>0.776</td>\n",
       "    </tr>\n",
       "    <tr>\n",
       "      <th>MLPRegressor</th>\n",
       "      <td>320.711</td>\n",
       "      <td>221.430</td>\n",
       "      <td>0.752</td>\n",
       "      <td>331.762</td>\n",
       "      <td>227.229</td>\n",
       "      <td>0.737</td>\n",
       "    </tr>\n",
       "    <tr>\n",
       "      <th>SVR</th>\n",
       "      <td>541.740</td>\n",
       "      <td>370.645</td>\n",
       "      <td>0.293</td>\n",
       "      <td>535.479</td>\n",
       "      <td>365.982</td>\n",
       "      <td>0.315</td>\n",
       "    </tr>\n",
       "    <tr>\n",
       "      <th>DecisionTreeRegressor</th>\n",
       "      <td>309.384</td>\n",
       "      <td>180.057</td>\n",
       "      <td>0.769</td>\n",
       "      <td>322.222</td>\n",
       "      <td>187.130</td>\n",
       "      <td>0.752</td>\n",
       "    </tr>\n",
       "    <tr>\n",
       "      <th>Earth</th>\n",
       "      <td>429.335</td>\n",
       "      <td>321.446</td>\n",
       "      <td>0.556</td>\n",
       "      <td>436.442</td>\n",
       "      <td>326.400</td>\n",
       "      <td>0.545</td>\n",
       "    </tr>\n",
       "    <tr>\n",
       "      <th>BaggingRegressor</th>\n",
       "      <td>237.254</td>\n",
       "      <td>145.564</td>\n",
       "      <td>0.864</td>\n",
       "      <td>240.454</td>\n",
       "      <td>146.279</td>\n",
       "      <td>0.862</td>\n",
       "    </tr>\n",
       "    <tr>\n",
       "      <th>RandomForestRegressor</th>\n",
       "      <td>224.956</td>\n",
       "      <td>137.269</td>\n",
       "      <td>0.878</td>\n",
       "      <td>233.412</td>\n",
       "      <td>140.617</td>\n",
       "      <td>0.870</td>\n",
       "    </tr>\n",
       "    <tr>\n",
       "      <th>GradientBoostingRegressor</th>\n",
       "      <td>252.327</td>\n",
       "      <td>168.342</td>\n",
       "      <td>0.846</td>\n",
       "      <td>269.782</td>\n",
       "      <td>181.927</td>\n",
       "      <td>0.826</td>\n",
       "    </tr>\n",
       "    <tr>\n",
       "      <th>XGBRegressor</th>\n",
       "      <td>220.127</td>\n",
       "      <td>136.805</td>\n",
       "      <td>0.883</td>\n",
       "      <td>225.564</td>\n",
       "      <td>138.074</td>\n",
       "      <td>0.878</td>\n",
       "    </tr>\n",
       "    <tr>\n",
       "      <th>LGBMRegressor</th>\n",
       "      <td>213.927</td>\n",
       "      <td>133.812</td>\n",
       "      <td>0.889</td>\n",
       "      <td>218.842</td>\n",
       "      <td>136.099</td>\n",
       "      <td>0.886</td>\n",
       "    </tr>\n",
       "    <tr>\n",
       "      <th>CatBoostRegressor</th>\n",
       "      <td>211.156</td>\n",
       "      <td>132.758</td>\n",
       "      <td>0.892</td>\n",
       "      <td>213.575</td>\n",
       "      <td>132.441</td>\n",
       "      <td>0.891</td>\n",
       "    </tr>\n",
       "    <tr>\n",
       "      <th rowspan=\"8\" valign=\"top\">meta-level</th>\n",
       "      <th>LinearRegression</th>\n",
       "      <td>206.692</td>\n",
       "      <td>126.182</td>\n",
       "      <td>0.897</td>\n",
       "      <td>205.677</td>\n",
       "      <td>123.679</td>\n",
       "      <td>0.899</td>\n",
       "    </tr>\n",
       "    <tr>\n",
       "      <th>Ridge</th>\n",
       "      <td>206.692</td>\n",
       "      <td>126.183</td>\n",
       "      <td>0.897</td>\n",
       "      <td>205.677</td>\n",
       "      <td>123.679</td>\n",
       "      <td>0.899</td>\n",
       "    </tr>\n",
       "    <tr>\n",
       "      <th>LinearSearch</th>\n",
       "      <td>208.200</td>\n",
       "      <td>128.664</td>\n",
       "      <td>0.895</td>\n",
       "      <td>211.820</td>\n",
       "      <td>130.105</td>\n",
       "      <td>0.893</td>\n",
       "    </tr>\n",
       "    <tr>\n",
       "      <th>DifferentialEvolution</th>\n",
       "      <td>209.592</td>\n",
       "      <td>128.718</td>\n",
       "      <td>0.894</td>\n",
       "      <td>206.976</td>\n",
       "      <td>125.077</td>\n",
       "      <td>0.898</td>\n",
       "    </tr>\n",
       "    <tr>\n",
       "      <th>GeneticAlgorithm</th>\n",
       "      <td>206.811</td>\n",
       "      <td>126.531</td>\n",
       "      <td>0.897</td>\n",
       "      <td>205.194</td>\n",
       "      <td>124.044</td>\n",
       "      <td>0.899</td>\n",
       "    </tr>\n",
       "    <tr>\n",
       "      <th>ParticleSwarmOptimization</th>\n",
       "      <td>206.801</td>\n",
       "      <td>126.497</td>\n",
       "      <td>0.897</td>\n",
       "      <td>205.585</td>\n",
       "      <td>123.712</td>\n",
       "      <td>0.899</td>\n",
       "    </tr>\n",
       "    <tr>\n",
       "      <th>SimulatedAnnealing</th>\n",
       "      <td>221.756</td>\n",
       "      <td>142.701</td>\n",
       "      <td>0.881</td>\n",
       "      <td>248.555</td>\n",
       "      <td>170.235</td>\n",
       "      <td>0.852</td>\n",
       "    </tr>\n",
       "    <tr>\n",
       "      <th>GreedySearch</th>\n",
       "      <td>209.469</td>\n",
       "      <td>128.725</td>\n",
       "      <td>0.894</td>\n",
       "      <td>214.691</td>\n",
       "      <td>130.413</td>\n",
       "      <td>0.890</td>\n",
       "    </tr>\n",
       "  </tbody>\n",
       "</table>\n",
       "</div>"
      ],
      "text/plain": [
       "                                      RMSE_CV   MAE_CV  R2_CV  RMSE_Test  \\\n",
       "type       model                                                           \n",
       "base-level LinearRegression           431.884  322.458  0.550    437.853   \n",
       "           Ridge                      431.879  322.428  0.550    437.865   \n",
       "           Lasso                      431.885  322.145  0.550    438.698   \n",
       "           KernelRidge                318.111  216.826  0.756    333.564   \n",
       "           KNeighborsRegressor        308.562  196.401  0.770    306.489   \n",
       "           MLPRegressor               320.711  221.430  0.752    331.762   \n",
       "           SVR                        541.740  370.645  0.293    535.479   \n",
       "           DecisionTreeRegressor      309.384  180.057  0.769    322.222   \n",
       "           Earth                      429.335  321.446  0.556    436.442   \n",
       "           BaggingRegressor           237.254  145.564  0.864    240.454   \n",
       "           RandomForestRegressor      224.956  137.269  0.878    233.412   \n",
       "           GradientBoostingRegressor  252.327  168.342  0.846    269.782   \n",
       "           XGBRegressor               220.127  136.805  0.883    225.564   \n",
       "           LGBMRegressor              213.927  133.812  0.889    218.842   \n",
       "           CatBoostRegressor          211.156  132.758  0.892    213.575   \n",
       "meta-level LinearRegression           206.692  126.182  0.897    205.677   \n",
       "           Ridge                      206.692  126.183  0.897    205.677   \n",
       "           LinearSearch               208.200  128.664  0.895    211.820   \n",
       "           DifferentialEvolution      209.592  128.718  0.894    206.976   \n",
       "           GeneticAlgorithm           206.811  126.531  0.897    205.194   \n",
       "           ParticleSwarmOptimization  206.801  126.497  0.897    205.585   \n",
       "           SimulatedAnnealing         221.756  142.701  0.881    248.555   \n",
       "           GreedySearch               209.469  128.725  0.894    214.691   \n",
       "\n",
       "                                      MAE_Test  R2_Test  \n",
       "type       model                                         \n",
       "base-level LinearRegression            326.765    0.542  \n",
       "           Ridge                       326.748    0.542  \n",
       "           Lasso                       327.013    0.540  \n",
       "           KernelRidge                 227.020    0.734  \n",
       "           KNeighborsRegressor         192.451    0.776  \n",
       "           MLPRegressor                227.229    0.737  \n",
       "           SVR                         365.982    0.315  \n",
       "           DecisionTreeRegressor       187.130    0.752  \n",
       "           Earth                       326.400    0.545  \n",
       "           BaggingRegressor            146.279    0.862  \n",
       "           RandomForestRegressor       140.617    0.870  \n",
       "           GradientBoostingRegressor   181.927    0.826  \n",
       "           XGBRegressor                138.074    0.878  \n",
       "           LGBMRegressor               136.099    0.886  \n",
       "           CatBoostRegressor           132.441    0.891  \n",
       "meta-level LinearRegression            123.679    0.899  \n",
       "           Ridge                       123.679    0.899  \n",
       "           LinearSearch                130.105    0.893  \n",
       "           DifferentialEvolution       125.077    0.898  \n",
       "           GeneticAlgorithm            124.044    0.899  \n",
       "           ParticleSwarmOptimization   123.712    0.899  \n",
       "           SimulatedAnnealing          170.235    0.852  \n",
       "           GreedySearch                130.413    0.890  "
      ]
     },
     "execution_count": 139,
     "metadata": {},
     "output_type": "execute_result"
    }
   ],
   "source": [
    "# Bike Sharing\n",
    "metrics_data1"
   ]
  },
  {
   "cell_type": "code",
   "execution_count": 140,
   "metadata": {},
   "outputs": [
    {
     "data": {
      "text/html": [
       "<div>\n",
       "<style scoped>\n",
       "    .dataframe tbody tr th:only-of-type {\n",
       "        vertical-align: middle;\n",
       "    }\n",
       "\n",
       "    .dataframe tbody tr th {\n",
       "        vertical-align: top;\n",
       "    }\n",
       "\n",
       "    .dataframe thead th {\n",
       "        text-align: right;\n",
       "    }\n",
       "</style>\n",
       "<table border=\"1\" class=\"dataframe\">\n",
       "  <thead>\n",
       "    <tr style=\"text-align: right;\">\n",
       "      <th></th>\n",
       "      <th></th>\n",
       "      <th>RMSE_CV</th>\n",
       "      <th>MAE_CV</th>\n",
       "      <th>R2_CV</th>\n",
       "      <th>RMSE_Test</th>\n",
       "      <th>MAE_Test</th>\n",
       "      <th>R2_Test</th>\n",
       "    </tr>\n",
       "    <tr>\n",
       "      <th>type</th>\n",
       "      <th>model</th>\n",
       "      <th></th>\n",
       "      <th></th>\n",
       "      <th></th>\n",
       "      <th></th>\n",
       "      <th></th>\n",
       "      <th></th>\n",
       "    </tr>\n",
       "  </thead>\n",
       "  <tbody>\n",
       "    <tr>\n",
       "      <th rowspan=\"15\" valign=\"top\">base-level</th>\n",
       "      <th>LinearRegression</th>\n",
       "      <td>0.141</td>\n",
       "      <td>0.100</td>\n",
       "      <td>0.634</td>\n",
       "      <td>0.130</td>\n",
       "      <td>0.096</td>\n",
       "      <td>0.672</td>\n",
       "    </tr>\n",
       "    <tr>\n",
       "      <th>Ridge</th>\n",
       "      <td>0.139</td>\n",
       "      <td>0.098</td>\n",
       "      <td>0.644</td>\n",
       "      <td>0.129</td>\n",
       "      <td>0.093</td>\n",
       "      <td>0.677</td>\n",
       "    </tr>\n",
       "    <tr>\n",
       "      <th>Lasso</th>\n",
       "      <td>0.235</td>\n",
       "      <td>0.179</td>\n",
       "      <td>-0.012</td>\n",
       "      <td>0.226</td>\n",
       "      <td>0.179</td>\n",
       "      <td>-0.000</td>\n",
       "    </tr>\n",
       "    <tr>\n",
       "      <th>KernelRidge</th>\n",
       "      <td>0.148</td>\n",
       "      <td>0.103</td>\n",
       "      <td>0.600</td>\n",
       "      <td>0.135</td>\n",
       "      <td>0.098</td>\n",
       "      <td>0.646</td>\n",
       "    </tr>\n",
       "    <tr>\n",
       "      <th>KNeighborsRegressor</th>\n",
       "      <td>0.172</td>\n",
       "      <td>0.118</td>\n",
       "      <td>0.455</td>\n",
       "      <td>0.168</td>\n",
       "      <td>0.118</td>\n",
       "      <td>0.451</td>\n",
       "    </tr>\n",
       "    <tr>\n",
       "      <th>MLPRegressor</th>\n",
       "      <td>0.148</td>\n",
       "      <td>0.105</td>\n",
       "      <td>0.599</td>\n",
       "      <td>0.140</td>\n",
       "      <td>0.104</td>\n",
       "      <td>0.619</td>\n",
       "    </tr>\n",
       "    <tr>\n",
       "      <th>SVR</th>\n",
       "      <td>0.152</td>\n",
       "      <td>0.106</td>\n",
       "      <td>0.576</td>\n",
       "      <td>0.140</td>\n",
       "      <td>0.102</td>\n",
       "      <td>0.620</td>\n",
       "    </tr>\n",
       "    <tr>\n",
       "      <th>DecisionTreeRegressor</th>\n",
       "      <td>0.191</td>\n",
       "      <td>0.128</td>\n",
       "      <td>0.321</td>\n",
       "      <td>0.201</td>\n",
       "      <td>0.134</td>\n",
       "      <td>0.210</td>\n",
       "    </tr>\n",
       "    <tr>\n",
       "      <th>Earth</th>\n",
       "      <td>0.142</td>\n",
       "      <td>0.098</td>\n",
       "      <td>0.631</td>\n",
       "      <td>0.130</td>\n",
       "      <td>0.095</td>\n",
       "      <td>0.668</td>\n",
       "    </tr>\n",
       "    <tr>\n",
       "      <th>BaggingRegressor</th>\n",
       "      <td>0.146</td>\n",
       "      <td>0.100</td>\n",
       "      <td>0.607</td>\n",
       "      <td>0.139</td>\n",
       "      <td>0.096</td>\n",
       "      <td>0.622</td>\n",
       "    </tr>\n",
       "    <tr>\n",
       "      <th>RandomForestRegressor</th>\n",
       "      <td>0.141</td>\n",
       "      <td>0.097</td>\n",
       "      <td>0.632</td>\n",
       "      <td>0.125</td>\n",
       "      <td>0.090</td>\n",
       "      <td>0.694</td>\n",
       "    </tr>\n",
       "    <tr>\n",
       "      <th>GradientBoostingRegressor</th>\n",
       "      <td>0.138</td>\n",
       "      <td>0.093</td>\n",
       "      <td>0.653</td>\n",
       "      <td>0.130</td>\n",
       "      <td>0.091</td>\n",
       "      <td>0.670</td>\n",
       "    </tr>\n",
       "    <tr>\n",
       "      <th>XGBRegressor</th>\n",
       "      <td>0.145</td>\n",
       "      <td>0.098</td>\n",
       "      <td>0.616</td>\n",
       "      <td>0.135</td>\n",
       "      <td>0.095</td>\n",
       "      <td>0.643</td>\n",
       "    </tr>\n",
       "    <tr>\n",
       "      <th>LGBMRegressor</th>\n",
       "      <td>0.138</td>\n",
       "      <td>0.092</td>\n",
       "      <td>0.651</td>\n",
       "      <td>0.130</td>\n",
       "      <td>0.091</td>\n",
       "      <td>0.671</td>\n",
       "    </tr>\n",
       "    <tr>\n",
       "      <th>CatBoostRegressor</th>\n",
       "      <td>0.134</td>\n",
       "      <td>0.090</td>\n",
       "      <td>0.670</td>\n",
       "      <td>0.125</td>\n",
       "      <td>0.087</td>\n",
       "      <td>0.693</td>\n",
       "    </tr>\n",
       "    <tr>\n",
       "      <th rowspan=\"8\" valign=\"top\">meta-level</th>\n",
       "      <th>LinearRegression</th>\n",
       "      <td>0.135</td>\n",
       "      <td>0.090</td>\n",
       "      <td>0.666</td>\n",
       "      <td>0.125</td>\n",
       "      <td>0.087</td>\n",
       "      <td>0.696</td>\n",
       "    </tr>\n",
       "    <tr>\n",
       "      <th>Ridge</th>\n",
       "      <td>0.134</td>\n",
       "      <td>0.090</td>\n",
       "      <td>0.672</td>\n",
       "      <td>0.124</td>\n",
       "      <td>0.087</td>\n",
       "      <td>0.700</td>\n",
       "    </tr>\n",
       "    <tr>\n",
       "      <th>LinearSearch</th>\n",
       "      <td>0.133</td>\n",
       "      <td>0.091</td>\n",
       "      <td>0.673</td>\n",
       "      <td>0.124</td>\n",
       "      <td>0.088</td>\n",
       "      <td>0.699</td>\n",
       "    </tr>\n",
       "    <tr>\n",
       "      <th>DifferentialEvolution</th>\n",
       "      <td>0.134</td>\n",
       "      <td>0.090</td>\n",
       "      <td>0.671</td>\n",
       "      <td>0.124</td>\n",
       "      <td>0.087</td>\n",
       "      <td>0.698</td>\n",
       "    </tr>\n",
       "    <tr>\n",
       "      <th>GeneticAlgorithm</th>\n",
       "      <td>0.134</td>\n",
       "      <td>0.090</td>\n",
       "      <td>0.671</td>\n",
       "      <td>0.125</td>\n",
       "      <td>0.087</td>\n",
       "      <td>0.696</td>\n",
       "    </tr>\n",
       "    <tr>\n",
       "      <th>ParticleSwarmOptimization</th>\n",
       "      <td>0.134</td>\n",
       "      <td>0.091</td>\n",
       "      <td>0.669</td>\n",
       "      <td>0.125</td>\n",
       "      <td>0.087</td>\n",
       "      <td>0.695</td>\n",
       "    </tr>\n",
       "    <tr>\n",
       "      <th>SimulatedAnnealing</th>\n",
       "      <td>0.135</td>\n",
       "      <td>0.092</td>\n",
       "      <td>0.667</td>\n",
       "      <td>0.124</td>\n",
       "      <td>0.089</td>\n",
       "      <td>0.701</td>\n",
       "    </tr>\n",
       "    <tr>\n",
       "      <th>GreedySearch</th>\n",
       "      <td>0.140</td>\n",
       "      <td>0.096</td>\n",
       "      <td>0.641</td>\n",
       "      <td>0.124</td>\n",
       "      <td>0.088</td>\n",
       "      <td>0.699</td>\n",
       "    </tr>\n",
       "  </tbody>\n",
       "</table>\n",
       "</div>"
      ],
      "text/plain": [
       "                                      RMSE_CV  MAE_CV  R2_CV  RMSE_Test  \\\n",
       "type       model                                                          \n",
       "base-level LinearRegression             0.141   0.100  0.634      0.130   \n",
       "           Ridge                        0.139   0.098  0.644      0.129   \n",
       "           Lasso                        0.235   0.179 -0.012      0.226   \n",
       "           KernelRidge                  0.148   0.103  0.600      0.135   \n",
       "           KNeighborsRegressor          0.172   0.118  0.455      0.168   \n",
       "           MLPRegressor                 0.148   0.105  0.599      0.140   \n",
       "           SVR                          0.152   0.106  0.576      0.140   \n",
       "           DecisionTreeRegressor        0.191   0.128  0.321      0.201   \n",
       "           Earth                        0.142   0.098  0.631      0.130   \n",
       "           BaggingRegressor             0.146   0.100  0.607      0.139   \n",
       "           RandomForestRegressor        0.141   0.097  0.632      0.125   \n",
       "           GradientBoostingRegressor    0.138   0.093  0.653      0.130   \n",
       "           XGBRegressor                 0.145   0.098  0.616      0.135   \n",
       "           LGBMRegressor                0.138   0.092  0.651      0.130   \n",
       "           CatBoostRegressor            0.134   0.090  0.670      0.125   \n",
       "meta-level LinearRegression             0.135   0.090  0.666      0.125   \n",
       "           Ridge                        0.134   0.090  0.672      0.124   \n",
       "           LinearSearch                 0.133   0.091  0.673      0.124   \n",
       "           DifferentialEvolution        0.134   0.090  0.671      0.124   \n",
       "           GeneticAlgorithm             0.134   0.090  0.671      0.125   \n",
       "           ParticleSwarmOptimization    0.134   0.091  0.669      0.125   \n",
       "           SimulatedAnnealing           0.135   0.092  0.667      0.124   \n",
       "           GreedySearch                 0.140   0.096  0.641      0.124   \n",
       "\n",
       "                                      MAE_Test  R2_Test  \n",
       "type       model                                         \n",
       "base-level LinearRegression              0.096    0.672  \n",
       "           Ridge                         0.093    0.677  \n",
       "           Lasso                         0.179   -0.000  \n",
       "           KernelRidge                   0.098    0.646  \n",
       "           KNeighborsRegressor           0.118    0.451  \n",
       "           MLPRegressor                  0.104    0.619  \n",
       "           SVR                           0.102    0.620  \n",
       "           DecisionTreeRegressor         0.134    0.210  \n",
       "           Earth                         0.095    0.668  \n",
       "           BaggingRegressor              0.096    0.622  \n",
       "           RandomForestRegressor         0.090    0.694  \n",
       "           GradientBoostingRegressor     0.091    0.670  \n",
       "           XGBRegressor                  0.095    0.643  \n",
       "           LGBMRegressor                 0.091    0.671  \n",
       "           CatBoostRegressor             0.087    0.693  \n",
       "meta-level LinearRegression              0.087    0.696  \n",
       "           Ridge                         0.087    0.700  \n",
       "           LinearSearch                  0.088    0.699  \n",
       "           DifferentialEvolution         0.087    0.698  \n",
       "           GeneticAlgorithm              0.087    0.696  \n",
       "           ParticleSwarmOptimization     0.087    0.695  \n",
       "           SimulatedAnnealing            0.089    0.701  \n",
       "           GreedySearch                  0.088    0.699  "
      ]
     },
     "execution_count": 140,
     "metadata": {},
     "output_type": "execute_result"
    }
   ],
   "source": [
    "# Crimes\n",
    "metrics_data2"
   ]
  },
  {
   "cell_type": "code",
   "execution_count": 141,
   "metadata": {},
   "outputs": [
    {
     "data": {
      "text/html": [
       "<div>\n",
       "<style scoped>\n",
       "    .dataframe tbody tr th:only-of-type {\n",
       "        vertical-align: middle;\n",
       "    }\n",
       "\n",
       "    .dataframe tbody tr th {\n",
       "        vertical-align: top;\n",
       "    }\n",
       "\n",
       "    .dataframe thead th {\n",
       "        text-align: right;\n",
       "    }\n",
       "</style>\n",
       "<table border=\"1\" class=\"dataframe\">\n",
       "  <thead>\n",
       "    <tr style=\"text-align: right;\">\n",
       "      <th></th>\n",
       "      <th></th>\n",
       "      <th>RMSE_CV</th>\n",
       "      <th>MAE_CV</th>\n",
       "      <th>R2_CV</th>\n",
       "      <th>RMSE_Test</th>\n",
       "      <th>MAE_Test</th>\n",
       "      <th>R2_Test</th>\n",
       "    </tr>\n",
       "    <tr>\n",
       "      <th>type</th>\n",
       "      <th>model</th>\n",
       "      <th></th>\n",
       "      <th></th>\n",
       "      <th></th>\n",
       "      <th></th>\n",
       "      <th></th>\n",
       "      <th></th>\n",
       "    </tr>\n",
       "  </thead>\n",
       "  <tbody>\n",
       "    <tr>\n",
       "      <th rowspan=\"15\" valign=\"top\">base-level</th>\n",
       "      <th>LinearRegression</th>\n",
       "      <td>7.934</td>\n",
       "      <td>6.498</td>\n",
       "      <td>-0.571</td>\n",
       "      <td>9.095</td>\n",
       "      <td>7.076</td>\n",
       "      <td>-0.021</td>\n",
       "    </tr>\n",
       "    <tr>\n",
       "      <th>Ridge</th>\n",
       "      <td>7.934</td>\n",
       "      <td>6.497</td>\n",
       "      <td>-0.570</td>\n",
       "      <td>9.094</td>\n",
       "      <td>7.076</td>\n",
       "      <td>-0.021</td>\n",
       "    </tr>\n",
       "    <tr>\n",
       "      <th>Lasso</th>\n",
       "      <td>7.804</td>\n",
       "      <td>6.401</td>\n",
       "      <td>-0.523</td>\n",
       "      <td>8.987</td>\n",
       "      <td>7.067</td>\n",
       "      <td>0.003</td>\n",
       "    </tr>\n",
       "    <tr>\n",
       "      <th>KernelRidge</th>\n",
       "      <td>20.051</td>\n",
       "      <td>18.283</td>\n",
       "      <td>-16.700</td>\n",
       "      <td>19.151</td>\n",
       "      <td>16.904</td>\n",
       "      <td>-3.526</td>\n",
       "    </tr>\n",
       "    <tr>\n",
       "      <th>KNeighborsRegressor</th>\n",
       "      <td>8.001</td>\n",
       "      <td>6.033</td>\n",
       "      <td>-0.255</td>\n",
       "      <td>11.173</td>\n",
       "      <td>8.326</td>\n",
       "      <td>-0.540</td>\n",
       "    </tr>\n",
       "    <tr>\n",
       "      <th>MLPRegressor</th>\n",
       "      <td>17.796</td>\n",
       "      <td>15.427</td>\n",
       "      <td>-7.043</td>\n",
       "      <td>9.323</td>\n",
       "      <td>6.278</td>\n",
       "      <td>-0.072</td>\n",
       "    </tr>\n",
       "    <tr>\n",
       "      <th>SVR</th>\n",
       "      <td>8.723</td>\n",
       "      <td>6.494</td>\n",
       "      <td>-0.381</td>\n",
       "      <td>10.264</td>\n",
       "      <td>6.858</td>\n",
       "      <td>-0.300</td>\n",
       "    </tr>\n",
       "    <tr>\n",
       "      <th>DecisionTreeRegressor</th>\n",
       "      <td>9.655</td>\n",
       "      <td>6.501</td>\n",
       "      <td>-1.847</td>\n",
       "      <td>11.698</td>\n",
       "      <td>8.298</td>\n",
       "      <td>-0.689</td>\n",
       "    </tr>\n",
       "    <tr>\n",
       "      <th>Earth</th>\n",
       "      <td>7.854</td>\n",
       "      <td>6.325</td>\n",
       "      <td>-0.447</td>\n",
       "      <td>8.807</td>\n",
       "      <td>7.166</td>\n",
       "      <td>0.043</td>\n",
       "    </tr>\n",
       "    <tr>\n",
       "      <th>BaggingRegressor</th>\n",
       "      <td>7.611</td>\n",
       "      <td>5.611</td>\n",
       "      <td>-0.288</td>\n",
       "      <td>9.336</td>\n",
       "      <td>6.706</td>\n",
       "      <td>-0.076</td>\n",
       "    </tr>\n",
       "    <tr>\n",
       "      <th>RandomForestRegressor</th>\n",
       "      <td>7.179</td>\n",
       "      <td>5.172</td>\n",
       "      <td>-0.220</td>\n",
       "      <td>8.328</td>\n",
       "      <td>6.202</td>\n",
       "      <td>0.144</td>\n",
       "    </tr>\n",
       "    <tr>\n",
       "      <th>GradientBoostingRegressor</th>\n",
       "      <td>8.404</td>\n",
       "      <td>5.980</td>\n",
       "      <td>-0.981</td>\n",
       "      <td>9.826</td>\n",
       "      <td>6.714</td>\n",
       "      <td>-0.191</td>\n",
       "    </tr>\n",
       "    <tr>\n",
       "      <th>XGBRegressor</th>\n",
       "      <td>7.853</td>\n",
       "      <td>5.612</td>\n",
       "      <td>-0.621</td>\n",
       "      <td>9.805</td>\n",
       "      <td>7.186</td>\n",
       "      <td>-0.186</td>\n",
       "    </tr>\n",
       "    <tr>\n",
       "      <th>LGBMRegressor</th>\n",
       "      <td>7.534</td>\n",
       "      <td>5.947</td>\n",
       "      <td>-0.194</td>\n",
       "      <td>8.981</td>\n",
       "      <td>6.878</td>\n",
       "      <td>0.005</td>\n",
       "    </tr>\n",
       "    <tr>\n",
       "      <th>CatBoostRegressor</th>\n",
       "      <td>7.550</td>\n",
       "      <td>5.446</td>\n",
       "      <td>-0.341</td>\n",
       "      <td>9.116</td>\n",
       "      <td>6.394</td>\n",
       "      <td>-0.025</td>\n",
       "    </tr>\n",
       "    <tr>\n",
       "      <th rowspan=\"8\" valign=\"top\">meta-level</th>\n",
       "      <th>LinearRegression</th>\n",
       "      <td>9.805</td>\n",
       "      <td>7.378</td>\n",
       "      <td>-1.226</td>\n",
       "      <td>8.220</td>\n",
       "      <td>6.746</td>\n",
       "      <td>0.166</td>\n",
       "    </tr>\n",
       "    <tr>\n",
       "      <th>Ridge</th>\n",
       "      <td>9.462</td>\n",
       "      <td>7.215</td>\n",
       "      <td>-1.005</td>\n",
       "      <td>8.125</td>\n",
       "      <td>6.579</td>\n",
       "      <td>0.185</td>\n",
       "    </tr>\n",
       "    <tr>\n",
       "      <th>LinearSearch</th>\n",
       "      <td>8.193</td>\n",
       "      <td>6.233</td>\n",
       "      <td>-0.692</td>\n",
       "      <td>8.632</td>\n",
       "      <td>6.720</td>\n",
       "      <td>0.081</td>\n",
       "    </tr>\n",
       "    <tr>\n",
       "      <th>DifferentialEvolution</th>\n",
       "      <td>9.221</td>\n",
       "      <td>6.995</td>\n",
       "      <td>-1.438</td>\n",
       "      <td>8.660</td>\n",
       "      <td>6.482</td>\n",
       "      <td>0.075</td>\n",
       "    </tr>\n",
       "    <tr>\n",
       "      <th>GeneticAlgorithm</th>\n",
       "      <td>9.012</td>\n",
       "      <td>6.702</td>\n",
       "      <td>-1.225</td>\n",
       "      <td>8.651</td>\n",
       "      <td>6.542</td>\n",
       "      <td>0.077</td>\n",
       "    </tr>\n",
       "    <tr>\n",
       "      <th>ParticleSwarmOptimization</th>\n",
       "      <td>9.188</td>\n",
       "      <td>6.692</td>\n",
       "      <td>-1.311</td>\n",
       "      <td>8.738</td>\n",
       "      <td>6.641</td>\n",
       "      <td>0.058</td>\n",
       "    </tr>\n",
       "    <tr>\n",
       "      <th>SimulatedAnnealing</th>\n",
       "      <td>8.416</td>\n",
       "      <td>6.309</td>\n",
       "      <td>-0.850</td>\n",
       "      <td>7.532</td>\n",
       "      <td>6.131</td>\n",
       "      <td>0.300</td>\n",
       "    </tr>\n",
       "    <tr>\n",
       "      <th>GreedySearch</th>\n",
       "      <td>15.436</td>\n",
       "      <td>14.318</td>\n",
       "      <td>-11.072</td>\n",
       "      <td>14.921</td>\n",
       "      <td>13.418</td>\n",
       "      <td>-1.747</td>\n",
       "    </tr>\n",
       "  </tbody>\n",
       "</table>\n",
       "</div>"
      ],
      "text/plain": [
       "                                      RMSE_CV  MAE_CV   R2_CV  RMSE_Test  \\\n",
       "type       model                                                           \n",
       "base-level LinearRegression             7.934   6.498  -0.571      9.095   \n",
       "           Ridge                        7.934   6.497  -0.570      9.094   \n",
       "           Lasso                        7.804   6.401  -0.523      8.987   \n",
       "           KernelRidge                 20.051  18.283 -16.700     19.151   \n",
       "           KNeighborsRegressor          8.001   6.033  -0.255     11.173   \n",
       "           MLPRegressor                17.796  15.427  -7.043      9.323   \n",
       "           SVR                          8.723   6.494  -0.381     10.264   \n",
       "           DecisionTreeRegressor        9.655   6.501  -1.847     11.698   \n",
       "           Earth                        7.854   6.325  -0.447      8.807   \n",
       "           BaggingRegressor             7.611   5.611  -0.288      9.336   \n",
       "           RandomForestRegressor        7.179   5.172  -0.220      8.328   \n",
       "           GradientBoostingRegressor    8.404   5.980  -0.981      9.826   \n",
       "           XGBRegressor                 7.853   5.612  -0.621      9.805   \n",
       "           LGBMRegressor                7.534   5.947  -0.194      8.981   \n",
       "           CatBoostRegressor            7.550   5.446  -0.341      9.116   \n",
       "meta-level LinearRegression             9.805   7.378  -1.226      8.220   \n",
       "           Ridge                        9.462   7.215  -1.005      8.125   \n",
       "           LinearSearch                 8.193   6.233  -0.692      8.632   \n",
       "           DifferentialEvolution        9.221   6.995  -1.438      8.660   \n",
       "           GeneticAlgorithm             9.012   6.702  -1.225      8.651   \n",
       "           ParticleSwarmOptimization    9.188   6.692  -1.311      8.738   \n",
       "           SimulatedAnnealing           8.416   6.309  -0.850      7.532   \n",
       "           GreedySearch                15.436  14.318 -11.072     14.921   \n",
       "\n",
       "                                      MAE_Test  R2_Test  \n",
       "type       model                                         \n",
       "base-level LinearRegression              7.076   -0.021  \n",
       "           Ridge                         7.076   -0.021  \n",
       "           Lasso                         7.067    0.003  \n",
       "           KernelRidge                  16.904   -3.526  \n",
       "           KNeighborsRegressor           8.326   -0.540  \n",
       "           MLPRegressor                  6.278   -0.072  \n",
       "           SVR                           6.858   -0.300  \n",
       "           DecisionTreeRegressor         8.298   -0.689  \n",
       "           Earth                         7.166    0.043  \n",
       "           BaggingRegressor              6.706   -0.076  \n",
       "           RandomForestRegressor         6.202    0.144  \n",
       "           GradientBoostingRegressor     6.714   -0.191  \n",
       "           XGBRegressor                  7.186   -0.186  \n",
       "           LGBMRegressor                 6.878    0.005  \n",
       "           CatBoostRegressor             6.394   -0.025  \n",
       "meta-level LinearRegression              6.746    0.166  \n",
       "           Ridge                         6.579    0.185  \n",
       "           LinearSearch                  6.720    0.081  \n",
       "           DifferentialEvolution         6.482    0.075  \n",
       "           GeneticAlgorithm              6.542    0.077  \n",
       "           ParticleSwarmOptimization     6.641    0.058  \n",
       "           SimulatedAnnealing            6.131    0.300  \n",
       "           GreedySearch                 13.418   -1.747  "
      ]
     },
     "execution_count": 141,
     "metadata": {},
     "output_type": "execute_result"
    }
   ],
   "source": [
    "# Slump Test\n",
    "metrics_data3"
   ]
  },
  {
   "cell_type": "code",
   "execution_count": 142,
   "metadata": {},
   "outputs": [
    {
     "data": {
      "text/html": [
       "<div>\n",
       "<style scoped>\n",
       "    .dataframe tbody tr th:only-of-type {\n",
       "        vertical-align: middle;\n",
       "    }\n",
       "\n",
       "    .dataframe tbody tr th {\n",
       "        vertical-align: top;\n",
       "    }\n",
       "\n",
       "    .dataframe thead th {\n",
       "        text-align: right;\n",
       "    }\n",
       "</style>\n",
       "<table border=\"1\" class=\"dataframe\">\n",
       "  <thead>\n",
       "    <tr style=\"text-align: right;\">\n",
       "      <th></th>\n",
       "      <th></th>\n",
       "      <th>RMSE_CV</th>\n",
       "      <th>MAE_CV</th>\n",
       "      <th>R2_CV</th>\n",
       "      <th>RMSE_Test</th>\n",
       "      <th>MAE_Test</th>\n",
       "      <th>R2_Test</th>\n",
       "    </tr>\n",
       "    <tr>\n",
       "      <th>type</th>\n",
       "      <th>model</th>\n",
       "      <th></th>\n",
       "      <th></th>\n",
       "      <th></th>\n",
       "      <th></th>\n",
       "      <th></th>\n",
       "      <th></th>\n",
       "    </tr>\n",
       "  </thead>\n",
       "  <tbody>\n",
       "    <tr>\n",
       "      <th rowspan=\"15\" valign=\"top\">base-level</th>\n",
       "      <th>LinearRegression</th>\n",
       "      <td>2.282</td>\n",
       "      <td>1.874</td>\n",
       "      <td>0.272</td>\n",
       "      <td>1.490</td>\n",
       "      <td>1.267</td>\n",
       "      <td>0.719</td>\n",
       "    </tr>\n",
       "    <tr>\n",
       "      <th>Ridge</th>\n",
       "      <td>2.120</td>\n",
       "      <td>1.782</td>\n",
       "      <td>0.381</td>\n",
       "      <td>1.842</td>\n",
       "      <td>1.611</td>\n",
       "      <td>0.571</td>\n",
       "    </tr>\n",
       "    <tr>\n",
       "      <th>Lasso</th>\n",
       "      <td>2.728</td>\n",
       "      <td>2.147</td>\n",
       "      <td>-0.025</td>\n",
       "      <td>2.879</td>\n",
       "      <td>2.307</td>\n",
       "      <td>-0.049</td>\n",
       "    </tr>\n",
       "    <tr>\n",
       "      <th>KernelRidge</th>\n",
       "      <td>2.056</td>\n",
       "      <td>1.694</td>\n",
       "      <td>0.424</td>\n",
       "      <td>2.119</td>\n",
       "      <td>1.723</td>\n",
       "      <td>0.432</td>\n",
       "    </tr>\n",
       "    <tr>\n",
       "      <th>KNeighborsRegressor</th>\n",
       "      <td>1.959</td>\n",
       "      <td>1.432</td>\n",
       "      <td>0.463</td>\n",
       "      <td>1.751</td>\n",
       "      <td>1.489</td>\n",
       "      <td>0.612</td>\n",
       "    </tr>\n",
       "    <tr>\n",
       "      <th>MLPRegressor</th>\n",
       "      <td>1.900</td>\n",
       "      <td>1.611</td>\n",
       "      <td>0.502</td>\n",
       "      <td>1.487</td>\n",
       "      <td>1.299</td>\n",
       "      <td>0.720</td>\n",
       "    </tr>\n",
       "    <tr>\n",
       "      <th>SVR</th>\n",
       "      <td>1.888</td>\n",
       "      <td>1.342</td>\n",
       "      <td>0.510</td>\n",
       "      <td>1.822</td>\n",
       "      <td>1.382</td>\n",
       "      <td>0.580</td>\n",
       "    </tr>\n",
       "    <tr>\n",
       "      <th>DecisionTreeRegressor</th>\n",
       "      <td>1.642</td>\n",
       "      <td>1.394</td>\n",
       "      <td>0.622</td>\n",
       "      <td>1.951</td>\n",
       "      <td>1.546</td>\n",
       "      <td>0.519</td>\n",
       "    </tr>\n",
       "    <tr>\n",
       "      <th>Earth</th>\n",
       "      <td>1.428</td>\n",
       "      <td>1.208</td>\n",
       "      <td>0.714</td>\n",
       "      <td>1.499</td>\n",
       "      <td>1.157</td>\n",
       "      <td>0.716</td>\n",
       "    </tr>\n",
       "    <tr>\n",
       "      <th>BaggingRegressor</th>\n",
       "      <td>1.727</td>\n",
       "      <td>1.400</td>\n",
       "      <td>0.583</td>\n",
       "      <td>1.881</td>\n",
       "      <td>1.604</td>\n",
       "      <td>0.552</td>\n",
       "    </tr>\n",
       "    <tr>\n",
       "      <th>RandomForestRegressor</th>\n",
       "      <td>1.577</td>\n",
       "      <td>1.291</td>\n",
       "      <td>0.654</td>\n",
       "      <td>1.614</td>\n",
       "      <td>1.401</td>\n",
       "      <td>0.671</td>\n",
       "    </tr>\n",
       "    <tr>\n",
       "      <th>GradientBoostingRegressor</th>\n",
       "      <td>1.157</td>\n",
       "      <td>0.958</td>\n",
       "      <td>0.806</td>\n",
       "      <td>1.155</td>\n",
       "      <td>0.922</td>\n",
       "      <td>0.831</td>\n",
       "    </tr>\n",
       "    <tr>\n",
       "      <th>XGBRegressor</th>\n",
       "      <td>1.726</td>\n",
       "      <td>1.347</td>\n",
       "      <td>0.593</td>\n",
       "      <td>1.232</td>\n",
       "      <td>0.971</td>\n",
       "      <td>0.808</td>\n",
       "    </tr>\n",
       "    <tr>\n",
       "      <th>LGBMRegressor</th>\n",
       "      <td>2.699</td>\n",
       "      <td>2.114</td>\n",
       "      <td>-0.040</td>\n",
       "      <td>1.505</td>\n",
       "      <td>1.121</td>\n",
       "      <td>0.714</td>\n",
       "    </tr>\n",
       "    <tr>\n",
       "      <th>CatBoostRegressor</th>\n",
       "      <td>1.545</td>\n",
       "      <td>1.172</td>\n",
       "      <td>0.672</td>\n",
       "      <td>1.540</td>\n",
       "      <td>1.250</td>\n",
       "      <td>0.700</td>\n",
       "    </tr>\n",
       "    <tr>\n",
       "      <th rowspan=\"8\" valign=\"top\">meta-level</th>\n",
       "      <th>LinearRegression</th>\n",
       "      <td>1.521</td>\n",
       "      <td>1.275</td>\n",
       "      <td>0.683</td>\n",
       "      <td>1.408</td>\n",
       "      <td>1.058</td>\n",
       "      <td>0.749</td>\n",
       "    </tr>\n",
       "    <tr>\n",
       "      <th>Ridge</th>\n",
       "      <td>1.344</td>\n",
       "      <td>1.147</td>\n",
       "      <td>0.753</td>\n",
       "      <td>1.162</td>\n",
       "      <td>0.905</td>\n",
       "      <td>0.829</td>\n",
       "    </tr>\n",
       "    <tr>\n",
       "      <th>LinearSearch</th>\n",
       "      <td>1.214</td>\n",
       "      <td>1.005</td>\n",
       "      <td>0.792</td>\n",
       "      <td>1.418</td>\n",
       "      <td>1.233</td>\n",
       "      <td>0.746</td>\n",
       "    </tr>\n",
       "    <tr>\n",
       "      <th>DifferentialEvolution</th>\n",
       "      <td>1.207</td>\n",
       "      <td>1.054</td>\n",
       "      <td>0.797</td>\n",
       "      <td>1.008</td>\n",
       "      <td>0.799</td>\n",
       "      <td>0.872</td>\n",
       "    </tr>\n",
       "    <tr>\n",
       "      <th>GeneticAlgorithm</th>\n",
       "      <td>1.182</td>\n",
       "      <td>0.994</td>\n",
       "      <td>0.806</td>\n",
       "      <td>0.979</td>\n",
       "      <td>0.797</td>\n",
       "      <td>0.879</td>\n",
       "    </tr>\n",
       "    <tr>\n",
       "      <th>ParticleSwarmOptimization</th>\n",
       "      <td>1.373</td>\n",
       "      <td>1.180</td>\n",
       "      <td>0.743</td>\n",
       "      <td>1.159</td>\n",
       "      <td>0.876</td>\n",
       "      <td>0.830</td>\n",
       "    </tr>\n",
       "    <tr>\n",
       "      <th>SimulatedAnnealing</th>\n",
       "      <td>1.166</td>\n",
       "      <td>0.992</td>\n",
       "      <td>0.809</td>\n",
       "      <td>1.368</td>\n",
       "      <td>1.084</td>\n",
       "      <td>0.763</td>\n",
       "    </tr>\n",
       "    <tr>\n",
       "      <th>GreedySearch</th>\n",
       "      <td>1.979</td>\n",
       "      <td>1.546</td>\n",
       "      <td>0.466</td>\n",
       "      <td>1.952</td>\n",
       "      <td>1.651</td>\n",
       "      <td>0.518</td>\n",
       "    </tr>\n",
       "  </tbody>\n",
       "</table>\n",
       "</div>"
      ],
      "text/plain": [
       "                                      RMSE_CV  MAE_CV  R2_CV  RMSE_Test  \\\n",
       "type       model                                                          \n",
       "base-level LinearRegression             2.282   1.874  0.272      1.490   \n",
       "           Ridge                        2.120   1.782  0.381      1.842   \n",
       "           Lasso                        2.728   2.147 -0.025      2.879   \n",
       "           KernelRidge                  2.056   1.694  0.424      2.119   \n",
       "           KNeighborsRegressor          1.959   1.432  0.463      1.751   \n",
       "           MLPRegressor                 1.900   1.611  0.502      1.487   \n",
       "           SVR                          1.888   1.342  0.510      1.822   \n",
       "           DecisionTreeRegressor        1.642   1.394  0.622      1.951   \n",
       "           Earth                        1.428   1.208  0.714      1.499   \n",
       "           BaggingRegressor             1.727   1.400  0.583      1.881   \n",
       "           RandomForestRegressor        1.577   1.291  0.654      1.614   \n",
       "           GradientBoostingRegressor    1.157   0.958  0.806      1.155   \n",
       "           XGBRegressor                 1.726   1.347  0.593      1.232   \n",
       "           LGBMRegressor                2.699   2.114 -0.040      1.505   \n",
       "           CatBoostRegressor            1.545   1.172  0.672      1.540   \n",
       "meta-level LinearRegression             1.521   1.275  0.683      1.408   \n",
       "           Ridge                        1.344   1.147  0.753      1.162   \n",
       "           LinearSearch                 1.214   1.005  0.792      1.418   \n",
       "           DifferentialEvolution        1.207   1.054  0.797      1.008   \n",
       "           GeneticAlgorithm             1.182   0.994  0.806      0.979   \n",
       "           ParticleSwarmOptimization    1.373   1.180  0.743      1.159   \n",
       "           SimulatedAnnealing           1.166   0.992  0.809      1.368   \n",
       "           GreedySearch                 1.979   1.546  0.466      1.952   \n",
       "\n",
       "                                      MAE_Test  R2_Test  \n",
       "type       model                                         \n",
       "base-level LinearRegression              1.267    0.719  \n",
       "           Ridge                         1.611    0.571  \n",
       "           Lasso                         2.307   -0.049  \n",
       "           KernelRidge                   1.723    0.432  \n",
       "           KNeighborsRegressor           1.489    0.612  \n",
       "           MLPRegressor                  1.299    0.720  \n",
       "           SVR                           1.382    0.580  \n",
       "           DecisionTreeRegressor         1.546    0.519  \n",
       "           Earth                         1.157    0.716  \n",
       "           BaggingRegressor              1.604    0.552  \n",
       "           RandomForestRegressor         1.401    0.671  \n",
       "           GradientBoostingRegressor     0.922    0.831  \n",
       "           XGBRegressor                  0.971    0.808  \n",
       "           LGBMRegressor                 1.121    0.714  \n",
       "           CatBoostRegressor             1.250    0.700  \n",
       "meta-level LinearRegression              1.058    0.749  \n",
       "           Ridge                         0.905    0.829  \n",
       "           LinearSearch                  1.233    0.746  \n",
       "           DifferentialEvolution         0.799    0.872  \n",
       "           GeneticAlgorithm              0.797    0.879  \n",
       "           ParticleSwarmOptimization     0.876    0.830  \n",
       "           SimulatedAnnealing            1.084    0.763  \n",
       "           GreedySearch                  1.651    0.518  "
      ]
     },
     "execution_count": 142,
     "metadata": {},
     "output_type": "execute_result"
    }
   ],
   "source": [
    "# Stock Portfolio\n",
    "metrics_data4"
   ]
  },
  {
   "cell_type": "code",
   "execution_count": null,
   "metadata": {},
   "outputs": [],
   "source": []
  }
 ],
 "metadata": {
  "kernelspec": {
   "display_name": "Python 3",
   "language": "python",
   "name": "python3"
  },
  "language_info": {
   "codemirror_mode": {
    "name": "ipython",
    "version": 3
   },
   "file_extension": ".py",
   "mimetype": "text/x-python",
   "name": "python",
   "nbconvert_exporter": "python",
   "pygments_lexer": "ipython3",
   "version": "3.7.3"
  }
 },
 "nbformat": 4,
 "nbformat_minor": 4
}
